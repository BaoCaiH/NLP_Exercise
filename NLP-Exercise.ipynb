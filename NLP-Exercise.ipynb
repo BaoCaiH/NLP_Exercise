{
 "cells": [
  {
   "cell_type": "code",
   "execution_count": 5,
   "metadata": {},
   "outputs": [],
   "source": [
    "import json\n",
    "import random\n",
    "import sklearn\n",
    "from sklearn.feature_extraction.text import TfidfVectorizer"
   ]
  },
  {
   "cell_type": "code",
   "execution_count": 3,
   "metadata": {
    "scrolled": true
   },
   "outputs": [
    {
     "name": "stdout",
     "output_type": "stream",
     "text": [
      "class label: pos\n",
      "text: Sublimity is the way we have to reach for The Beauty. And sublimity is the stuff this film is made of. If not his best, it's my most loved of all Bogdanovich movies.  This unique masterpiece remind us, as most of the other films from the director, what life is (or should be) about: love, lost (or failure) and hope and faith and charity. As the song from whom the films takes its title (Gershwin's well known composition) the film makes the impossible true, and tries to make us aware that no-one is able to judge anybody; all this with the lightness of a comedy and the timing of a masterful direction (the first ten minutes, with the detectives following the ladies, almost without a line of dialogue, constructed upon the looks and views of the characters --with that \\Bogdanovich touch\\\" based on the point-of-view-- is a class on Cinema Language, something that P.B. learned well from his admired directors from the Golden Age of the Movies). With a superb cast and a glorious soundtrack (including the best of Sinatra's \\\"Trilogy\\\"), this movie, full of self-consciousness and compassion, and far away from self-indulgence and emptiness (as some critics wrote), deserves a better place on the History of American Cinema than where it have been placed. It's not \\\"long on style, short on substance\\\": it is complex in its simplicity, and beautiful, absolutely beautiful.\"\n"
     ]
    }
   ],
   "source": [
    "with open('Data/imdb_train.json') as f:\n",
    "    data=json.load(f)\n",
    "random.shuffle(data)\n",
    "print('class label:', data[0]['class'])\n",
    "print('text:',data[0]['text'])"
   ]
  },
  {
   "cell_type": "code",
   "execution_count": 4,
   "metadata": {
    "scrolled": true
   },
   "outputs": [
    {
     "name": "stdout",
     "output_type": "stream",
     "text": [
      "This many texts 25000\n",
      "This many labels 25000\n",
      "\n",
      "pos Sublimity is the way we have to reach for The Beau...\n",
      "pos I don't know who could find fault with a simply hu...\n",
      "pos I love this film. The noir imagery combined with S...\n",
      "neg 1st the good news. The 3-D is spectacularly well d...\n",
      "pos In Lizzie Borden's \\Love Crimes\\\" (1992), Sean You...\n",
      "neg The movie is basically a boring string of appallin...\n",
      "neg I found this film to be an utter dissapointment. T...\n",
      "pos The best Treasure Island ever made. They just don'...\n",
      "neg I am a huge Ziyi Zhang fan and will go to any film...\n",
      "pos Hitchcock was of the opinion that audiences aren't...\n",
      "pos I haven't yet read the Kurt Vonnegut book this was...\n",
      "neg It pains me to write such a scathing review but by...\n",
      "neg Every generation fully believes it is living in th...\n",
      "pos the most amazing combination of love and psyche of...\n",
      "pos This movie is a ripoff of James Cain's novel, THE ...\n",
      "neg 96 minutes of this is cruel..and I love the old Mu...\n",
      "neg This show is awful. How is George wanting the deat...\n",
      "pos To begin with, I loved göta kanal 1, it had a lot ...\n",
      "neg It's been a looooonnnggg time since I saw this com...\n",
      "neg Manmohan Desai made some entertaining though illog...\n"
     ]
    }
   ],
   "source": [
    "# We need to gather the texts and labels into separate lists\n",
    "texts=[one_example['text'] for one_example in data]\n",
    "labels=[one_example['class'] for one_example in data]\n",
    "print('This many texts',len(texts))\n",
    "print('This many labels',len(labels))\n",
    "print()\n",
    "for label,text in list(zip(labels,texts))[:20]:\n",
    "    print(label,text[:50]+'...')"
   ]
  },
  {
   "cell_type": "code",
   "execution_count": 6,
   "metadata": {},
   "outputs": [
    {
     "name": "stdout",
     "output_type": "stream",
     "text": [
      "Unique features:\n",
      "['commodities', 'global', 'gold', 'has', 'is', 'markets', 'metal', 'more', 'of', 'on', 'palladium', 'precious', 'price', 'soared', 'soaring', 'than', 'the', 'why']\n",
      "\n",
      "Feature vectors (sparse format):\n",
      "  (0, 17)\t0.35300278529739293\n",
      "  (0, 16)\t0.2511643891128359\n",
      "  (0, 15)\t0.35300278529739293\n",
      "  (0, 14)\t0.35300278529739293\n",
      "  (0, 11)\t0.2511643891128359\n",
      "  (0, 10)\t0.2511643891128359\n",
      "  (0, 7)\t0.35300278529739293\n",
      "  (0, 6)\t0.2511643891128359\n",
      "  (0, 4)\t0.35300278529739293\n",
      "  (0, 2)\t0.35300278529739293\n",
      "  (1, 16)\t0.5689552392131245\n",
      "  (1, 13)\t0.2665489122631268\n",
      "  (1, 12)\t0.2665489122631268\n",
      "  (1, 11)\t0.18965174640437482\n",
      "  (1, 10)\t0.18965174640437482\n",
      "  (1, 9)\t0.2665489122631268\n",
      "  (1, 8)\t0.2665489122631268\n",
      "  (1, 6)\t0.18965174640437482\n",
      "  (1, 5)\t0.2665489122631268\n",
      "  (1, 3)\t0.2665489122631268\n",
      "  (1, 1)\t0.2665489122631268\n",
      "  (1, 0)\t0.2665489122631268\n"
     ]
    }
   ],
   "source": [
    "vectorizer = TfidfVectorizer()\n",
    "\n",
    "toy_data=[\n",
    "    \"More precious than gold: Why the metal palladium is soaring\",\n",
    "    \"The price of the precious metal palladium has soared on the global commodities markets.\"]\n",
    "\n",
    "vectorizer.fit(toy_data)\n",
    "print(\"Unique features:\")\n",
    "print(vectorizer.get_feature_names())\n",
    "print()\n",
    "print(\"Feature vectors (sparse format):\")\n",
    "print(vectorizer.transform(toy_data))"
   ]
  },
  {
   "cell_type": "code",
   "execution_count": null,
   "metadata": {},
   "outputs": [],
   "source": []
  }
 ],
 "metadata": {
  "kernelspec": {
   "display_name": "Python 3",
   "language": "python",
   "name": "python3"
  },
  "language_info": {
   "codemirror_mode": {
    "name": "ipython",
    "version": 3
   },
   "file_extension": ".py",
   "mimetype": "text/x-python",
   "name": "python",
   "nbconvert_exporter": "python",
   "pygments_lexer": "ipython3",
   "version": "3.7.3"
  }
 },
 "nbformat": 4,
 "nbformat_minor": 2
}
