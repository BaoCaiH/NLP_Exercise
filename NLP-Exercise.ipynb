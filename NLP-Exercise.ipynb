{
 "cells": [
  {
   "cell_type": "markdown",
   "metadata": {},
   "source": [
    "1. Test sklearn’s TfidfVectorizer inplace of CountVectorizer on the IMDB data. Do you see any difference in the classification results or the optimal C value?\n",
    "2. Test different lengths of n-grams in the CountVectorizer on the IMDB data. Do you see any difference in the classification results or the optimal C value? Do these n-grams show up also in the list of most significant positive/negative features?\n",
    "3. In the data package for the course (http://dl.turkunlp.org/intro-to-nlp.tar.gz), the directory language_identification contains data for 5 languages. Based on this data, train an SVM classifier for language recognition between these 5 languages.\n",
    "4. If you completed (3), toy around with features, especially the ngram_range and analyzer parameters, which allow you to test classification based on character ngrams of various lengths (not only word n-grams). Gain some insight into the accuracy of the classifier with different features, and try to identify misclassified documents - why do you think they were misclassified?\n",
    "5. On the address universal dependencies.org, you will find datasets for a bunch of languages. These come in an easy-to-parse, well-documented format. Pick one language that interests you, and one tree bank for that language, and try to build a POS tagger for this language. You can use the 4th column “UPOS” https://universaldependencies.org/format.htmlReportonyourfindings. If you have extra time, try to experiment with various features and see if you can make your accuracy go up. You can check here https://universaldependencies.org/conll18/results-upos.html what the state of the art roughly is for your selected language and treebank. Did you come close?\n"
   ]
  },
  {
   "cell_type": "code",
   "execution_count": 171,
   "metadata": {},
   "outputs": [],
   "source": [
    "import os\n",
    "import json\n",
    "import random\n",
    "# import sklearn\n",
    "import mglearn\n",
    "import pickle\n",
    "import numpy as np\n",
    "import pandas as pd\n",
    "import matplotlib.pyplot as plt\n",
    "from sklearn import metrics\n",
    "from sklearn.model_selection import train_test_split\n",
    "from sklearn.svm import LinearSVC\n",
    "from sklearn.model_selection import GridSearchCV, PredefinedSplit\n",
    "from sklearn.pipeline import Pipeline\n",
    "from sklearn.feature_extraction.text import TfidfVectorizer, CountVectorizer"
   ]
  },
  {
   "cell_type": "code",
   "execution_count": 153,
   "metadata": {},
   "outputs": [],
   "source": [
    "def draw_param_heatmap(\n",
    "    param_grid,\n",
    "    x_grid, y_grid,\n",
    "    df_result,\n",
    "    summarize='mean'\n",
    "):\n",
    "    \"\"\"\n",
    "    Draw a heatmap based on 2 parameters grid.\n",
    "    \n",
    "    Parameters:\n",
    "    ----------\n",
    "    \n",
    "    param_grid: dict\n",
    "        Provide the dictionary of parameters,\n",
    "        the names of the parameterr provide in x_grid\n",
    "        and y_grid should be available in this dictionary\n",
    "    x_grid: string/object\n",
    "        Name of the parameter to be plotted\n",
    "        on the x axis. The name should be exactly same\n",
    "        as one of the key in the 'param_grid'\n",
    "    y_grid: string/object\n",
    "        Name of the parameter to be plotted\n",
    "        on the y axis. The name should be exactly same\n",
    "        as one of the key in the 'param_grid'\n",
    "    df_result: Pandas Dataframe\n",
    "        Obtain from the 'cv_results_' attribute of GridSearch\n",
    "    summarize: string/object\n",
    "        Choose the summarization method for the score\n",
    "        since there are more than 1 score. And unless 'sum'\n",
    "        is explicitly stated, the score will always be\n",
    "        mean/average\n",
    "    \n",
    "    Returns:\n",
    "    -------\n",
    "    None:\n",
    "        No return, just plot the heatmap\n",
    "    \"\"\"\n",
    "\n",
    "    # Prepare an empty dataframe\n",
    "    df_heatmap = pd.DataFrame(\n",
    "        index=param_grid[y_grid],\n",
    "        columns=param_grid[x_grid],\n",
    "        dtype=np.float32\n",
    "    )\n",
    "\n",
    "    # Fill the empty data frame\n",
    "    # With total score from other parameters\n",
    "    col_min = None\n",
    "    col_max = None\n",
    "    for k, i in enumerate(param_grid[y_grid]):\n",
    "        for l, j in enumerate(param_grid[x_grid]):\n",
    "            if summarize == 'sum':\n",
    "                df_heatmap.loc[i, j] = df_result[\n",
    "                    (df_result['param_'+y_grid] == i) &\n",
    "                    (df_result['param_'+x_grid] == j)\n",
    "                ]['mean_test_score'].sum()\n",
    "            else:\n",
    "                df_heatmap.loc[i, j] = df_result[\n",
    "                    (df_result['param_'+y_grid] == i) &\n",
    "                    (df_result['param_'+x_grid] == j)\n",
    "                ]['mean_test_score'].mean()\n",
    "            if not col_max:\n",
    "                col_max = df_heatmap.iloc[k, l]\n",
    "            else:\n",
    "                col_max = max(\n",
    "                    col_max, df_heatmap.iloc[k, l]\n",
    "                )\n",
    "            if not col_min:\n",
    "                col_min = df_heatmap.iloc[k, l]\n",
    "            else:\n",
    "                col_min = min(\n",
    "                    col_min, df_heatmap.iloc[k, l]\n",
    "                )\n",
    "\n",
    "    # Plot the heatmap\n",
    "    plt.rcParams['figure.figsize'] = [20, 10]\n",
    "    plt.rcParams['lines.linewidth'] = 5.0\n",
    "    plt.rcParams['lines.markersize'] = 15.0\n",
    "    mglearn.tools.heatmap(\n",
    "        np.array(df_heatmap),\n",
    "        xlabel=x_grid,\n",
    "        xticklabels=param_grid[x_grid],\n",
    "        ylabel=y_grid,\n",
    "        yticklabels=param_grid[y_grid],\n",
    "        cmap='bwr',\n",
    "        vmax=col_max,\n",
    "        vmin=col_min\n",
    "    )\n",
    "\n",
    "\n",
    "def sort_dictionary_value(dictionary, descending=False, dtype='dict'):\n",
    "    \"\"\"\n",
    "    Sort a dictionary by its values.\n",
    "    \n",
    "    Parameters:\n",
    "    ----------\n",
    "    \n",
    "    dictionary: dict\n",
    "        A dictionary with sortable value (i.e. int)\n",
    "\n",
    "    descending: boolean\n",
    "        Sort by ascending or descending order\n",
    "\n",
    "    dtype: str\n",
    "        Choose output type, either dict or list\n",
    "    \n",
    "    Returns:\n",
    "    -------\n",
    "    sorted: dict or list\n",
    "        A dictionary sorted by value\n",
    "    \"\"\"\n",
    "    if dtype == 'dict':\n",
    "        return {\n",
    "            i: j for i, j in\n",
    "            sorted(\n",
    "                dictionary.items(),\n",
    "                key=lambda x: x[1],\n",
    "                reverse=descending\n",
    "            )}\n",
    "    if dtype == 'list':\n",
    "        return sorted(\n",
    "            dictionary.items(),\n",
    "            key=lambda x: x[1],\n",
    "            reverse=descending\n",
    "        )\n",
    "    print('dtype can only be either \"dict\" or \"list\"')\n",
    "    return None\n",
    "\n",
    "def shuffle_pair(a, b):\n",
    "    \"\"\"\n",
    "    Shuffle a pair of list.\n",
    "    \n",
    "    Parameters:\n",
    "    ----------\n",
    "    \n",
    "    a: list\n",
    "        A list of values.\n",
    "\n",
    "    b: list\n",
    "        A list of values.\n",
    "    \n",
    "    Returns:\n",
    "    -------\n",
    "    shuffled_a: list\n",
    "        First list shuffled.\n",
    "    \n",
    "    shuffled_b: list\n",
    "        Second list shuffle correspond to a\n",
    "\n",
    "    \"\"\"\n",
    "    \n",
    "    if len(a) != len(b):\n",
    "        print('Lengths of first and second list are different.')\n",
    "        return None\n",
    "    c = list(zip(a, b))\n",
    "    random.shuffle(c)\n",
    "    shuffle_a, shuffle_b = zip(*c)\n",
    "    return shuffle_a, shuffle_b"
   ]
  },
  {
   "cell_type": "code",
   "execution_count": 2,
   "metadata": {
    "scrolled": true
   },
   "outputs": [
    {
     "name": "stdout",
     "output_type": "stream",
     "text": [
      "class label: pos\n",
      "text: I am a member of a canoeing club and I can tell you the truth that Deliverance is synonomous with the peacefulness and tranquility of the experience. As we put our boats into the water, banjoes echo in the back of the conscious mind. This movie is timeless because it waxes philosophical of human's place in nature and technology's effect upon man's relationship with nature. We see it in the bow fishing. We see it in the home made tent. There is also city man's disdain and feeling of superiority to the rural woodsman \\cracker\\\". The fact that the Banker from Atlanta (Ned Beatty) has \\\"bad teeth\\\" is meant to put him on the same level with the woodsmen who also have bad teeth. Ultimately, the struggle of life and death supersedes \\\"civilized man's\\\" suppositives about \\\"The Law\\\". This canoe trip ends too soon for the viewer, but alas Not Soon Enough for the characters.\"\n"
     ]
    }
   ],
   "source": [
    "with open('Data/imdb_train.json') as f:\n",
    "    data = json.load(f)\n",
    "random.shuffle(data)\n",
    "print('class label:', data[0]['class'])\n",
    "print('text:', data[0]['text'])"
   ]
  },
  {
   "cell_type": "code",
   "execution_count": 3,
   "metadata": {
    "scrolled": true
   },
   "outputs": [
    {
     "name": "stdout",
     "output_type": "stream",
     "text": [
      "This many texts 25000\n",
      "This many labels 25000\n",
      "\n",
      "pos I am a member of a canoeing club and I can tell yo...\n",
      "neg I have just watched the movie for the first time. ...\n",
      "pos This show is awesome! and I've seen it about 6 tim...\n",
      "neg The name of Nick Stahl, the young cast and the att...\n",
      "neg This film takes what could have been a good idea, ...\n",
      "pos My kids recently started watching the reruns of th...\n",
      "neg Ah, Channel 5 of local Mexican t.v. Everyday, at 2...\n",
      "neg Having seen the first ten episodes, I must say thi...\n",
      "neg The reason the DVD releases of this film are in bl...\n",
      "neg Damp telling of the American Revolution.  When far...\n",
      "pos There have been countless talking-animal films in ...\n",
      "neg I really looked forward to see Planet of the Apes,...\n",
      "neg Not sure why this movie seems to have gotten such ...\n",
      "neg Camera work - Why is the camera work in this movie...\n",
      "pos After Racism, Rural exodus -also known as migratio...\n",
      "pos The world of the Dragon Hunters is a 3D gravity ch...\n",
      "pos \\The Invisible Ray\\\" is part science fiction and p...\n",
      "neg Kurt Thomas in one of the series of gymnast olympi...\n",
      "neg i don't know what they were thinking.by they,i mea...\n",
      "pos This is the first Michael Vartan movie i've seen-i...\n"
     ]
    }
   ],
   "source": [
    "# We need to gather the texts and labels into separate lists\n",
    "texts = [one_example['text'] for one_example in data]\n",
    "labels = [one_example['class'] for one_example in data]\n",
    "print('This many texts', len(texts))\n",
    "print('This many labels', len(labels))\n",
    "print()\n",
    "for label, text in list(zip(labels, texts))[:20]:\n",
    "    print(label, text[:50]+'...')"
   ]
  },
  {
   "cell_type": "code",
   "execution_count": 4,
   "metadata": {
    "scrolled": true
   },
   "outputs": [
    {
     "name": "stdout",
     "output_type": "stream",
     "text": [
      "Unique features:\n",
      "['an', 'and', 'auto', 'build', 'compiler', 'completion', 'documentation', 'editor', 'error', 'formatter', 'friendly', 'great', 'has', 'inspections', 'integrated', 'manager', 'messages', 'more', 'multi', 'notch', 'package', 'rust', 'smart', 'support', 'tool', 'tooling', 'top', 'type', 'useful', 'with']\n",
      "\n",
      "Feature vectors (sparse format):\n",
      "  (0, 21)\t0.5\n",
      "  (0, 12)\t0.5\n",
      "  (0, 11)\t0.5\n",
      "  (0, 6)\t0.5\n",
      "  (1, 29)\t0.3393931489111758\n",
      "  (1, 28)\t0.4206690600631704\n",
      "  (1, 16)\t0.4206690600631704\n",
      "  (1, 10)\t0.4206690600631704\n",
      "  (1, 8)\t0.4206690600631704\n",
      "  (1, 4)\t0.4206690600631704\n",
      "  (2, 26)\t0.3094185760868625\n",
      "  (2, 25)\t0.3094185760868625\n",
      "  (2, 24)\t0.3094185760868625\n",
      "  (2, 20)\t0.3094185760868625\n",
      "  (2, 19)\t0.3094185760868625\n",
      "  (2, 15)\t0.3094185760868625\n",
      "  (2, 14)\t0.3094185760868625\n",
      "  (2, 3)\t0.3094185760868625\n",
      "  (2, 1)\t0.41444245308083316\n",
      "  (2, 0)\t0.2496369589290994\n",
      "  (3, 29)\t0.27274066223567134\n",
      "  (3, 27)\t0.3380550208269348\n",
      "  (3, 23)\t0.3380550208269348\n",
      "  (3, 22)\t0.3380550208269348\n",
      "  (3, 18)\t0.3380550208269348\n",
      "  (3, 13)\t0.3380550208269348\n",
      "  (3, 7)\t0.3380550208269348\n",
      "  (3, 5)\t0.3380550208269348\n",
      "  (3, 2)\t0.27274066223567134\n",
      "  (3, 1)\t0.22639938732779208\n",
      "  (4, 17)\t0.5163739676148649\n",
      "  (4, 9)\t0.5163739676148649\n",
      "  (4, 2)\t0.4166072657167828\n",
      "  (4, 1)\t0.345821664219199\n",
      "  (4, 0)\t0.4166072657167828\n"
     ]
    }
   ],
   "source": [
    "# Check what's the different between count and tfidf\n",
    "vectorizer = TfidfVectorizer()\n",
    "\n",
    "toy_data = [\n",
    "    'Rust has great documentation, ',\n",
    "    'a friendly compiler with useful error messages, ',\n",
    "    'and top-notch tooling — an integrated package manager and build tool, ',\n",
    "    'smart multi-editor support with auto-completion and type inspections, ',\n",
    "    'an auto-formatter, and more.'\n",
    "]\n",
    "\n",
    "vectorizer.fit(toy_data)\n",
    "print('Unique features:')\n",
    "print(vectorizer.get_feature_names())\n",
    "print()\n",
    "print('Feature vectors (sparse format):')\n",
    "print(vectorizer.transform(toy_data))"
   ]
  },
  {
   "cell_type": "markdown",
   "metadata": {},
   "source": [
    "Each features are assigned a idf score instead of frequency"
   ]
  },
  {
   "cell_type": "code",
   "execution_count": 6,
   "metadata": {},
   "outputs": [
    {
     "name": "stdout",
     "output_type": "stream",
     "text": [
      "(20000, 68247)\n",
      "(5000, 68247)\n"
     ]
    }
   ],
   "source": [
    "# With Validation\n",
    "# train_text_set, test_texts, train_label_set, test_labels = train_test_split(\n",
    "#     texts, labels,\n",
    "#     test_size=0.2, random_state=4\n",
    "# )\n",
    "# train_texts, val_texts, train_labels, val_labels = train_test_split(\n",
    "#     train_text_set, train_label_set,\n",
    "#     test_size=0.2, random_state=4\n",
    "# )\n",
    "\n",
    "# Without Validation\n",
    "train_texts, test_texts, train_labels, test_labels = train_test_split(\n",
    "    texts, labels,\n",
    "    test_size=0.2, random_state=4\n",
    ")\n",
    "\n",
    "vectorizer = TfidfVectorizer(\n",
    "    max_features=100000,\n",
    "    binary=True,\n",
    "    ngram_range=(1,1)\n",
    ")\n",
    "\n",
    "feature_matrix_train = vectorizer.fit_transform(train_texts)\n",
    "feature_matrix_test = vectorizer.transform(test_texts)\n",
    "\n",
    "print(feature_matrix_train.shape)\n",
    "print(feature_matrix_test.shape)"
   ]
  },
  {
   "cell_type": "code",
   "execution_count": 7,
   "metadata": {},
   "outputs": [
    {
     "name": "stdout",
     "output_type": "stream",
     "text": [
      "[LibLinear]"
     ]
    },
    {
     "data": {
      "text/plain": [
       "LinearSVC(C=0.0005, class_weight=None, dual=True, fit_intercept=True,\n",
       "          intercept_scaling=1, loss='squared_hinge', max_iter=1000,\n",
       "          multi_class='ovr', penalty='l2', random_state=None, tol=0.0001,\n",
       "          verbose=1)"
      ]
     },
     "execution_count": 7,
     "metadata": {},
     "output_type": "execute_result"
    }
   ],
   "source": [
    "classifier = LinearSVC(\n",
    "    C=0.0005,\n",
    "    verbose=1\n",
    ")\n",
    "\n",
    "classifier.fit(\n",
    "    feature_matrix_train,\n",
    "    train_labels\n",
    ")"
   ]
  },
  {
   "cell_type": "code",
   "execution_count": 8,
   "metadata": {},
   "outputs": [
    {
     "name": "stdout",
     "output_type": "stream",
     "text": [
      "Test set score 0.8284\n",
      "Train set score: 0.84435\n"
     ]
    }
   ],
   "source": [
    "print('Test set score', classifier.score(feature_matrix_test, test_labels))\n",
    "print('Train set score:', classifier.score(feature_matrix_train, train_labels))"
   ]
  },
  {
   "cell_type": "markdown",
   "metadata": {},
   "source": [
    "With the same parameters in the `vectorizer` and the `svm`, vectorizing the string by *idf* score probably gave the `svm` more information so it's less forgiving in classifying task. Next, I'll use `GridSearch` to alter `C`"
   ]
  },
  {
   "cell_type": "code",
   "execution_count": 18,
   "metadata": {},
   "outputs": [],
   "source": [
    "pipe_tfidf = Pipeline(\n",
    "    steps=[\n",
    "        (\n",
    "            'vectorize',\n",
    "            TfidfVectorizer(\n",
    "                max_features=100000,\n",
    "                binary=True,\n",
    "                ngram_range=(1,1)\n",
    "            )\n",
    "        ),\n",
    "        (\n",
    "            'classify',\n",
    "            LinearSVC(\n",
    "                C=0.0005,\n",
    "                verbose=1\n",
    "            )\n",
    "        )\n",
    "    ]\n",
    ")"
   ]
  },
  {
   "cell_type": "code",
   "execution_count": 19,
   "metadata": {
    "scrolled": true
   },
   "outputs": [
    {
     "name": "stdout",
     "output_type": "stream",
     "text": [
      "[LibLinear]Test set score 0.8284\n",
      "Train set score: 0.84435\n"
     ]
    }
   ],
   "source": [
    "pipe_tfidf.fit(train_texts, train_labels)\n",
    "print('Test set score', pipe_tfidf.score(test_texts, test_labels))\n",
    "print('Train set score:', pipe_tfidf.score(train_texts, train_labels))"
   ]
  },
  {
   "cell_type": "markdown",
   "metadata": {},
   "source": [
    "So the pipe works, now use it for GridSearchCV"
   ]
  },
  {
   "cell_type": "code",
   "execution_count": 20,
   "metadata": {},
   "outputs": [],
   "source": [
    "pipe_tfidf = Pipeline(\n",
    "    steps=[\n",
    "        (\n",
    "            'vectorize',\n",
    "            TfidfVectorizer(\n",
    "                max_features=100000,\n",
    "                binary=True,\n",
    "                ngram_range=(1,1)\n",
    "            )\n",
    "        ),\n",
    "        (\n",
    "            'classify',\n",
    "            LinearSVC(\n",
    "                C=0.0005,\n",
    "                verbose=1\n",
    "            )\n",
    "        )\n",
    "    ]\n",
    ")\n",
    "\n",
    "grid_param_tfidf = {\n",
    "    'vectorize__ngram_range': [\n",
    "        (1, 1),\n",
    "        (1, 2),\n",
    "        (2, 2),\n",
    "        (1, 3),\n",
    "        (2, 3)\n",
    "    ],\n",
    "    'classify__C': np.logspace(\n",
    "        -4, 4, 5\n",
    "    )\n",
    "}"
   ]
  },
  {
   "cell_type": "code",
   "execution_count": 21,
   "metadata": {},
   "outputs": [],
   "source": [
    "grid_tfidf = GridSearchCV(\n",
    "    pipe_tfidf,\n",
    "    grid_param_tfidf,\n",
    "    cv=5,\n",
    "    n_jobs=4,\n",
    "    verbose=1\n",
    ")"
   ]
  },
  {
   "cell_type": "code",
   "execution_count": 22,
   "metadata": {
    "scrolled": true
   },
   "outputs": [
    {
     "name": "stdout",
     "output_type": "stream",
     "text": [
      "Fitting 5 folds for each of 25 candidates, totalling 125 fits\n"
     ]
    },
    {
     "name": "stderr",
     "output_type": "stream",
     "text": [
      "[Parallel(n_jobs=4)]: Using backend LokyBackend with 4 concurrent workers.\n",
      "[Parallel(n_jobs=4)]: Done  42 tasks      | elapsed:  4.8min\n",
      "[Parallel(n_jobs=4)]: Done 125 out of 125 | elapsed: 17.3min finished\n"
     ]
    },
    {
     "name": "stdout",
     "output_type": "stream",
     "text": [
      "[LibLinear]"
     ]
    },
    {
     "data": {
      "text/plain": [
       "GridSearchCV(cv=5, error_score='raise-deprecating',\n",
       "             estimator=Pipeline(memory=None,\n",
       "                                steps=[('vectorize',\n",
       "                                        TfidfVectorizer(analyzer='word',\n",
       "                                                        binary=True,\n",
       "                                                        decode_error='strict',\n",
       "                                                        dtype=<class 'numpy.float64'>,\n",
       "                                                        encoding='utf-8',\n",
       "                                                        input='content',\n",
       "                                                        lowercase=True,\n",
       "                                                        max_df=1.0,\n",
       "                                                        max_features=100000,\n",
       "                                                        min_df=1,\n",
       "                                                        ngram_range=(1, 1),\n",
       "                                                        norm='l2',\n",
       "                                                        preprocessor=None,\n",
       "                                                        smooth_idf=True,\n",
       "                                                        stop...\n",
       "                                                  loss='squared_hinge',\n",
       "                                                  max_iter=1000,\n",
       "                                                  multi_class='ovr',\n",
       "                                                  penalty='l2',\n",
       "                                                  random_state=None, tol=0.0001,\n",
       "                                                  verbose=1))],\n",
       "                                verbose=False),\n",
       "             iid='warn', n_jobs=4,\n",
       "             param_grid={'classify__C': array([1.e-04, 1.e-02, 1.e+00, 1.e+02, 1.e+04]),\n",
       "                         'vectorize__ngram_range': [(1, 1), (1, 2), (2, 2),\n",
       "                                                    (1, 3), (2, 3)]},\n",
       "             pre_dispatch='2*n_jobs', refit=True, return_train_score=False,\n",
       "             scoring=None, verbose=1)"
      ]
     },
     "execution_count": 22,
     "metadata": {},
     "output_type": "execute_result"
    }
   ],
   "source": [
    "grid_tfidf.fit(train_texts, train_labels)"
   ]
  },
  {
   "cell_type": "code",
   "execution_count": 31,
   "metadata": {},
   "outputs": [
    {
     "name": "stdout",
     "output_type": "stream",
     "text": [
      "The best combination is as follow:\n",
      "SVC C: 1.0\n",
      "tfidf ngram_range: (1, 2)\n"
     ]
    }
   ],
   "source": [
    "print('The best combination is as follow:')\n",
    "for param, value in grid_tfidf.best_params_.items():\n",
    "    if 'vectorize' in param:\n",
    "        print('tfidf {}: {}'.format(param[11:], value))\n",
    "    else:\n",
    "        print('SVC {}: {}'.format(param[10:], value))"
   ]
  },
  {
   "cell_type": "code",
   "execution_count": 24,
   "metadata": {},
   "outputs": [
    {
     "data": {
      "text/plain": [
       "0.8984"
      ]
     },
     "execution_count": 24,
     "metadata": {},
     "output_type": "execute_result"
    }
   ],
   "source": [
    "grid_tfidf.best_estimator_.score(test_texts, test_labels)"
   ]
  },
  {
   "cell_type": "code",
   "execution_count": 63,
   "metadata": {
    "scrolled": false
   },
   "outputs": [
    {
     "data": {
      "image/png": "[encoded data removed]",
      "text/plain": [
       "<Figure size 1440x720 with 1 Axes>"
      ]
     },
     "metadata": {
      "needs_background": "light"
     },
     "output_type": "display_data"
    }
   ],
   "source": [
    "result_tfidf = pd.DataFrame(grid_tfidf.cv_results_)\n",
    "draw_param_heatmap(\n",
    "    grid_param_tfidf,\n",
    "    'classify__C',\n",
    "    'vectorize__ngram_range',\n",
    "    result_tfidf\n",
    ")"
   ]
  },
  {
   "cell_type": "code",
   "execution_count": 64,
   "metadata": {},
   "outputs": [],
   "source": [
    "pipe_count = Pipeline(\n",
    "    steps=[\n",
    "        (\n",
    "            'vectorize',\n",
    "            CountVectorizer(\n",
    "                max_features=100000,\n",
    "                binary=True,\n",
    "                ngram_range=(1,1)\n",
    "            )\n",
    "        ),\n",
    "        (\n",
    "            'classify',\n",
    "            LinearSVC(\n",
    "                C=0.0005,\n",
    "                verbose=1\n",
    "            )\n",
    "        )\n",
    "    ]\n",
    ")\n",
    "\n",
    "grid_param_count = {\n",
    "    'vectorize__ngram_range': [\n",
    "        (1, 1),\n",
    "        (1, 2),\n",
    "        (2, 2),\n",
    "        (1, 3),\n",
    "        (2, 3)\n",
    "    ],\n",
    "    'classify__C': np.logspace(\n",
    "        -4, 4, 5\n",
    "    )\n",
    "}"
   ]
  },
  {
   "cell_type": "code",
   "execution_count": 65,
   "metadata": {
    "scrolled": true
   },
   "outputs": [
    {
     "name": "stdout",
     "output_type": "stream",
     "text": [
      "Fitting 5 folds for each of 25 candidates, totalling 125 fits\n"
     ]
    },
    {
     "name": "stderr",
     "output_type": "stream",
     "text": [
      "[Parallel(n_jobs=4)]: Using backend LokyBackend with 4 concurrent workers.\n",
      "[Parallel(n_jobs=4)]: Done  42 tasks      | elapsed:  5.2min\n",
      "[Parallel(n_jobs=4)]: Done 125 out of 125 | elapsed: 18.1min finished\n"
     ]
    },
    {
     "name": "stdout",
     "output_type": "stream",
     "text": [
      "[LibLinear]"
     ]
    },
    {
     "data": {
      "text/plain": [
       "GridSearchCV(cv=5, error_score='raise-deprecating',\n",
       "             estimator=Pipeline(memory=None,\n",
       "                                steps=[('vectorize',\n",
       "                                        CountVectorizer(analyzer='word',\n",
       "                                                        binary=True,\n",
       "                                                        decode_error='strict',\n",
       "                                                        dtype=<class 'numpy.int64'>,\n",
       "                                                        encoding='utf-8',\n",
       "                                                        input='content',\n",
       "                                                        lowercase=True,\n",
       "                                                        max_df=1.0,\n",
       "                                                        max_features=100000,\n",
       "                                                        min_df=1,\n",
       "                                                        ngram_range=(1, 1),\n",
       "                                                        preprocessor=None,\n",
       "                                                        stop_words=None,\n",
       "                                                        strip_accents=No...\n",
       "                                                  loss='squared_hinge',\n",
       "                                                  max_iter=1000,\n",
       "                                                  multi_class='ovr',\n",
       "                                                  penalty='l2',\n",
       "                                                  random_state=None, tol=0.0001,\n",
       "                                                  verbose=1))],\n",
       "                                verbose=False),\n",
       "             iid='warn', n_jobs=4,\n",
       "             param_grid={'classify__C': array([1.e-04, 1.e-02, 1.e+00, 1.e+02, 1.e+04]),\n",
       "                         'vectorize__ngram_range': [(1, 1), (1, 2), (2, 2),\n",
       "                                                    (1, 3), (2, 3)]},\n",
       "             pre_dispatch='2*n_jobs', refit=True, return_train_score=False,\n",
       "             scoring=None, verbose=1)"
      ]
     },
     "execution_count": 65,
     "metadata": {},
     "output_type": "execute_result"
    }
   ],
   "source": [
    "grid_count = GridSearchCV(\n",
    "    pipe_count,\n",
    "    grid_param_count,\n",
    "    cv=5,\n",
    "    n_jobs=4,\n",
    "    verbose=1\n",
    ")\n",
    "\n",
    "grid_count.fit(train_texts, train_labels)"
   ]
  },
  {
   "cell_type": "code",
   "execution_count": 66,
   "metadata": {},
   "outputs": [
    {
     "name": "stdout",
     "output_type": "stream",
     "text": [
      "The best combination is as follow:\n",
      "SVC C: 0.01\n",
      "count ngram_range: (1, 2)\n"
     ]
    },
    {
     "data": {
      "text/plain": [
       "0.886"
      ]
     },
     "execution_count": 66,
     "metadata": {},
     "output_type": "execute_result"
    }
   ],
   "source": [
    "print('The best combination is as follow:')\n",
    "for param, value in grid_count.best_params_.items():\n",
    "    if 'vectorize' in param:\n",
    "        print('count {}: {}'.format(param[11:], value))\n",
    "    else:\n",
    "        print('SVC {}: {}'.format(param[10:], value))\n",
    "\n",
    "grid_count.best_estimator_.score(test_texts, test_labels)"
   ]
  },
  {
   "cell_type": "code",
   "execution_count": 67,
   "metadata": {},
   "outputs": [
    {
     "data": {
      "image/png": "[encoded data removed]",
      "text/plain": [
       "<Figure size 1440x720 with 1 Axes>"
      ]
     },
     "metadata": {
      "needs_background": "light"
     },
     "output_type": "display_data"
    }
   ],
   "source": [
    "result_count = pd.DataFrame(grid_count.cv_results_)\n",
    "draw_param_heatmap(\n",
    "    grid_param_count,\n",
    "    'classify__C',\n",
    "    'vectorize__ngram_range',\n",
    "    result_count\n",
    ")"
   ]
  },
  {
   "cell_type": "markdown",
   "metadata": {},
   "source": [
    "Compare to `Tfidf` vectorizing method, `Count` method provides a slightly lower score when pass through a `svm`.\n",
    "\n",
    "Also the sweet spot of the 2 are also a tad different. While `Count` found its best `C` value at about `C=0.01`, probably because counting didn't take the weight into account while, `Tfidf` already has some degree of that in the weight so it prefers a `C=1`.\n",
    "\n",
    "However, both shows a better performance in multiple `ngram_range` compare to a single `ngram_range`, meaning `(1, 2)` and `(1, 3)` instead of `(1, 1)` or `(2, 2)`. Humanly speaking that might be because the `svm` is provided about the information about the word itself as well as some form of context."
   ]
  },
  {
   "cell_type": "code",
   "execution_count": 79,
   "metadata": {},
   "outputs": [],
   "source": [
    "# # Since I'm doing this in a remote notebook\n",
    "# # I'll save the trained model for future use\n",
    "# with open('Model/grid_count.pickle','wb') as f:\n",
    "#     pickle.dump(grid_count, f)\n",
    "\n",
    "# with open('Model/grid_count_best.pickle','wb') as f:\n",
    "#     pickle.dump((\n",
    "#         grid_count.best_estimator_.steps[0][1],\n",
    "#         grid_count.best_estimator_.steps[1][1]\n",
    "#     ), f)\n",
    "\n",
    "# with open('Model/grid_tfidf.pickle','wb') as f:\n",
    "#     pickle.dump(grid_tfidf, f)\n",
    "\n",
    "# with open('Model/grid_ifidf_best.pickle','wb') as f:\n",
    "#     pickle.dump((\n",
    "#         grid_tfidf.best_estimator_.steps[0][1],\n",
    "#         grid_tfidf.best_estimator_.steps[1][1]\n",
    "#     ), f)"
   ]
  },
  {
   "cell_type": "code",
   "execution_count": 120,
   "metadata": {},
   "outputs": [],
   "source": [
    "# with open('Model/grid_count.pickle','rb') as f:\n",
    "#     grid_count = pickle.load(f)"
   ]
  },
  {
   "cell_type": "code",
   "execution_count": 127,
   "metadata": {},
   "outputs": [],
   "source": [
    "features_count = {\n",
    "    j: i for i, j\n",
    "    in grid_count.best_estimator_.steps[0][1].vocabulary_.items()\n",
    "}\n",
    "\n",
    "lst_count = [\n",
    "    (c, i) for i, c in\n",
    "    enumerate(grid_count.best_estimator_.steps[1][1].coef_[0])\n",
    "]\n",
    "\n",
    "lst_count.sort()"
   ]
  },
  {
   "cell_type": "code",
   "execution_count": 131,
   "metadata": {
    "scrolled": true
   },
   "outputs": [
    {
     "name": "stdout",
     "output_type": "stream",
     "text": [
      "awful\n",
      "worst\n",
      "waste\n",
      "boring\n",
      "poorly\n",
      "terrible\n",
      "bad\n",
      "dull\n",
      "the worst\n",
      "poor\n",
      "disappointing\n",
      "disappointment\n",
      "save\n",
      "lacks\n",
      "mess\n",
      "annoying\n",
      "lame\n",
      "not worth\n",
      "laughable\n",
      "horrible\n",
      "worse\n",
      "at best\n",
      "stupid\n",
      "unfortunately\n",
      "wonder\n",
      "waste of\n",
      "forgettable\n",
      "oh\n",
      "not good\n",
      "just not\n",
      "dreadful\n",
      "ridiculous\n",
      "weak\n",
      "unfunny\n",
      "avoid\n",
      "not even\n",
      "not recommend\n",
      "pointless\n",
      "okay\n",
      "redeeming\n",
      "the original\n",
      "mediocre\n",
      "pathetic\n",
      "bored\n",
      "fails\n",
      "material\n",
      "sorry\n",
      "offensive\n",
      "way too\n",
      "than this\n",
      "----------------------\n",
      "believable\n",
      "worth\n",
      "liked\n",
      "terrific\n",
      "powerful\n",
      "job\n",
      "fun\n",
      "10 10\n",
      "the best\n",
      "beautiful\n",
      "much as\n",
      "underrated\n",
      "hilarious\n",
      "enjoyed this\n",
      "especially\n",
      "simple\n",
      "loved this\n",
      "pretty good\n",
      "surprisingly\n",
      "love this\n",
      "enjoyed\n",
      "touching\n",
      "shows\n",
      "loved\n",
      "favorite\n",
      "true\n",
      "must see\n",
      "bit\n",
      "rare\n",
      "better than\n",
      "outstanding\n",
      "very good\n",
      "wonderfully\n",
      "definitely worth\n",
      "to all\n",
      "fantastic\n",
      "well worth\n",
      "refreshing\n",
      "of what\n",
      "brilliant\n",
      "today\n",
      "amazing\n",
      "incredible\n",
      "enjoyed it\n",
      "wonderful\n",
      "superb\n",
      "great\n",
      "enjoyable\n",
      "perfect\n",
      "excellent\n"
     ]
    }
   ],
   "source": [
    "for _, i in lst_count[:50]:\n",
    "    print(features_count[i])\n",
    "print('----------------------')\n",
    "for _, i in lst_count[-50:]:\n",
    "    print(features_count[i])"
   ]
  },
  {
   "cell_type": "markdown",
   "metadata": {},
   "source": [
    "Certainly the `ngram_range` had some effects on the features and how the features were used. Words like 'not recommend' was picked up just fine instead of 'recommend' alone for a negative review. Also somehow bad movies are usually sequel because the word 'the original' was quite the determine factor."
   ]
  },
  {
   "cell_type": "markdown",
   "metadata": {},
   "source": [
    "#### Now on to the language identification"
   ]
  },
  {
   "cell_type": "code",
   "execution_count": 146,
   "metadata": {},
   "outputs": [],
   "source": [
    "path_lang = 'language-identification/'\n",
    "lang_text_train = []\n",
    "lang_text_val = []\n",
    "lang_text_test = []\n",
    "lang_label_train = []\n",
    "lang_label_val = []\n",
    "lang_label_test = []\n",
    "for file in os.listdir(path_lang):\n",
    "    temp = []\n",
    "    with open(path_lang + file) as f:\n",
    "        for line in f:\n",
    "            temp.append(line)\n",
    "    if 'train' in file:\n",
    "        lang_text_train = lang_text_train + temp\n",
    "        lang_label_train = lang_label_train + [file[:2]]*len(temp)\n",
    "    if 'devel' in file:\n",
    "        lang_text_val = lang_text_val + temp\n",
    "        lang_label_val = lang_label_val + [file[:2]]*len(temp)\n",
    "    if 'test' in file:\n",
    "        lang_text_test = lang_text_test + temp\n",
    "        lang_label_test = lang_label_test + [file[:2]]*len(temp)"
   ]
  },
  {
   "cell_type": "code",
   "execution_count": 155,
   "metadata": {},
   "outputs": [
    {
     "name": "stdout",
     "output_type": "stream",
     "text": [
      "Number of lines in train text: 5000\n",
      "Number of lines in train label: 5000\n",
      "Number of lines in validation text: 5000\n",
      "Number of lines in validation label: 5000\n",
      "Number of lines in test text: 5000\n",
      "Number of lines in test label: 5000\n"
     ]
    }
   ],
   "source": [
    "print(\n",
    "    'Number of lines in train text:',\n",
    "    len(lang_text_train)\n",
    ")\n",
    "print(\n",
    "    'Number of lines in train label:',\n",
    "    len(lang_label_train)\n",
    ")\n",
    "print(\n",
    "    'Number of lines in validation text:',\n",
    "    len(lang_text_val)\n",
    ")\n",
    "print(\n",
    "    'Number of lines in validation label:',\n",
    "    len(lang_label_val)\n",
    ")\n",
    "print(\n",
    "    'Number of lines in test text:',\n",
    "    len(lang_text_test)\n",
    ")\n",
    "print(\n",
    "    'Number of lines in test label:',\n",
    "    len(lang_label_test)\n",
    ")"
   ]
  },
  {
   "cell_type": "code",
   "execution_count": 154,
   "metadata": {},
   "outputs": [],
   "source": [
    "lang_text_train, lang_label_train = shuffle_pair(\n",
    "    lang_text_train, lang_label_train\n",
    ")\n",
    "lang_text_val, lang_label_val = shuffle_pair(\n",
    "    lang_text_val, lang_label_val\n",
    ")\n",
    "lang_text_test, lang_label_test = shuffle_pair(\n",
    "    lang_text_test, lang_label_test\n",
    ")"
   ]
  },
  {
   "cell_type": "code",
   "execution_count": 164,
   "metadata": {},
   "outputs": [],
   "source": [
    "lang_text_train = list(lang_text_train)\n",
    "lang_label_train = list(lang_label_train)\n",
    "lang_text_val = list(lang_text_val)\n",
    "lang_label_val = list(lang_label_val)\n",
    "lang_text_test = list(lang_text_test)\n",
    "lang_label_test = list(lang_label_test)"
   ]
  },
  {
   "cell_type": "code",
   "execution_count": 172,
   "metadata": {},
   "outputs": [],
   "source": [
    "pipe_lang = Pipeline(\n",
    "    steps=[\n",
    "        (\n",
    "            'vectorize',\n",
    "            TfidfVectorizer(\n",
    "                max_features=100000,\n",
    "                binary=True,\n",
    "                ngram_range=(1,1)\n",
    "            )\n",
    "        ),\n",
    "        (\n",
    "            'classify',\n",
    "            LinearSVC(\n",
    "                C=0.0005,\n",
    "                verbose=1\n",
    "            )\n",
    "        )\n",
    "    ]\n",
    ")\n",
    "\n",
    "grid_param_lang = {\n",
    "    'vectorize__ngram_range': [\n",
    "        (1, 1),\n",
    "        (1, 2),\n",
    "        (2, 2),\n",
    "        (1, 3),\n",
    "        (2, 3)\n",
    "    ],\n",
    "    'classify__C': np.logspace(\n",
    "        -4, 4, 5\n",
    "    )\n",
    "}\n",
    "\n",
    "pds = PredefinedSplit(\n",
    "    test_fold=[-1]*len(lang_label_train)+[0]*len(lang_label_val)\n",
    ")\n",
    "\n",
    "grid_lang = GridSearchCV(\n",
    "    pipe_lang,\n",
    "    grid_param_lang,\n",
    "#     cv=5,\n",
    "    cv=pds,\n",
    "    n_jobs=4,\n",
    "    verbose=1\n",
    ")"
   ]
  },
  {
   "cell_type": "code",
   "execution_count": 173,
   "metadata": {
    "scrolled": true
   },
   "outputs": [
    {
     "name": "stdout",
     "output_type": "stream",
     "text": [
      "Fitting 1 folds for each of 25 candidates, totalling 25 fits\n"
     ]
    },
    {
     "name": "stderr",
     "output_type": "stream",
     "text": [
      "[Parallel(n_jobs=4)]: Using backend LokyBackend with 4 concurrent workers.\n",
      "[Parallel(n_jobs=4)]: Done  25 out of  25 | elapsed:   13.6s finished\n"
     ]
    },
    {
     "name": "stdout",
     "output_type": "stream",
     "text": [
      "[LibLinear]"
     ]
    },
    {
     "data": {
      "text/plain": [
       "GridSearchCV(cv=PredefinedSplit(test_fold=array([-1, -1, ...,  0,  0])),\n",
       "             error_score='raise-deprecating',\n",
       "             estimator=Pipeline(memory=None,\n",
       "                                steps=[('vectorize',\n",
       "                                        TfidfVectorizer(analyzer='word',\n",
       "                                                        binary=True,\n",
       "                                                        decode_error='strict',\n",
       "                                                        dtype=<class 'numpy.float64'>,\n",
       "                                                        encoding='utf-8',\n",
       "                                                        input='content',\n",
       "                                                        lowercase=True,\n",
       "                                                        max_df=1.0,\n",
       "                                                        max_features=100000,\n",
       "                                                        min_df=1,\n",
       "                                                        ngram_range=(1, 1),...\n",
       "                                                  loss='squared_hinge',\n",
       "                                                  max_iter=1000,\n",
       "                                                  multi_class='ovr',\n",
       "                                                  penalty='l2',\n",
       "                                                  random_state=None, tol=0.0001,\n",
       "                                                  verbose=1))],\n",
       "                                verbose=False),\n",
       "             iid='warn', n_jobs=4,\n",
       "             param_grid={'classify__C': array([1.e-04, 1.e-02, 1.e+00, 1.e+02, 1.e+04]),\n",
       "                         'vectorize__ngram_range': [(1, 1), (1, 2), (2, 2),\n",
       "                                                    (1, 3), (2, 3)]},\n",
       "             pre_dispatch='2*n_jobs', refit=True, return_train_score=False,\n",
       "             scoring=None, verbose=1)"
      ]
     },
     "execution_count": 173,
     "metadata": {},
     "output_type": "execute_result"
    }
   ],
   "source": [
    "grid_lang.fit(\n",
    "    lang_text_train+lang_text_val,\n",
    "    lang_label_train+lang_label_val\n",
    ")"
   ]
  },
  {
   "cell_type": "code",
   "execution_count": 174,
   "metadata": {},
   "outputs": [
    {
     "name": "stdout",
     "output_type": "stream",
     "text": [
      "The best combination is as follow:\n",
      "SVC C: 1.0\n",
      "lang ngram_range: (1, 2)\n"
     ]
    },
    {
     "data": {
      "text/plain": [
       "0.9622"
      ]
     },
     "execution_count": 174,
     "metadata": {},
     "output_type": "execute_result"
    }
   ],
   "source": [
    "print('The best combination is as follow:')\n",
    "for param, value in grid_lang.best_params_.items():\n",
    "    if 'vectorize' in param:\n",
    "        print('lang {}: {}'.format(param[11:], value))\n",
    "    else:\n",
    "        print('SVC {}: {}'.format(param[10:], value))\n",
    "\n",
    "grid_lang.best_estimator_.score(lang_text_test, lang_label_test)"
   ]
  },
  {
   "cell_type": "code",
   "execution_count": 175,
   "metadata": {},
   "outputs": [
    {
     "data": {
      "image/png": "[encoded data removed]",
      "text/plain": [
       "<Figure size 1440x720 with 1 Axes>"
      ]
     },
     "metadata": {
      "needs_background": "light"
     },
     "output_type": "display_data"
    }
   ],
   "source": [
    "draw_param_heatmap(\n",
    "    grid_param_lang,\n",
    "    'classify__C',\n",
    "    'vectorize__ngram_range',\n",
    "    pd.DataFrame(grid_lang.cv_results_)\n",
    ")"
   ]
  },
  {
   "cell_type": "code",
   "execution_count": 176,
   "metadata": {},
   "outputs": [],
   "source": [
    "# with open('Model/grid_lang_word.pickle','wb') as f:\n",
    "#     pickle.dump(grid_lang, f)\n",
    "\n",
    "# with open('Model/grid_lang_word_best.pickle','wb') as f:\n",
    "#     pickle.dump((\n",
    "#         grid_lang.best_estimator_.steps[0][1],\n",
    "#         grid_lang.best_estimator_.steps[1][1]\n",
    "#     ), f)"
   ]
  },
  {
   "cell_type": "code",
   "execution_count": null,
   "metadata": {},
   "outputs": [],
   "source": []
  }
 ],
 "metadata": {
  "kernelspec": {
   "display_name": "Python 3",
   "language": "python",
   "name": "python3"
  },
  "language_info": {
   "codemirror_mode": {
    "name": "ipython",
    "version": 3
   },
   "file_extension": ".py",
   "mimetype": "text/x-python",
   "name": "python",
   "nbconvert_exporter": "python",
   "pygments_lexer": "ipython3",
   "version": "3.7.3"
  }
 },
 "nbformat": 4,
 "nbformat_minor": 2
}
