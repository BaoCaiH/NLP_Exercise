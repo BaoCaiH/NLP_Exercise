{
 "cells": [
  {
   "cell_type": "markdown",
   "metadata": {},
   "source": [
    "1. Test sklearn’s TfidfVectorizer inplace of CountVectorizer on the IMDB data. Do you see any difference in the classification results or the optimal C value?\n",
    "2. Test different lengths of n-grams in the CountVectorizer on the IMDB data. Do you see any difference in the classification results or the optimal C value? Do these n-grams show up also in the list of most significant positive/negative features?\n",
    "3. In the data package for the course (http://dl.turkunlp.org/intro-to-nlp.tar.gz), the directory language_identification contains data for 5 languages. Based on this data, train an SVM classifier for language recognition between these 5 languages.\n",
    "4. If you completed (3), toy around with features, especially the ngram_range and analyzer parameters, which allow you to test classification based on character ngrams of various lengths (not only word n-grams). Gain some insight into the accuracy of the classifier with different features, and try to identify misclassified documents - why do you think they were misclassified?\n",
    "5. On the address universal dependencies.org, you will find datasets for a bunch of languages. These come in an easy-to-parse, well-documented format. Pick one language that interests you, and one tree bank for that language, and try to build a POS tagger for this language. You can use the 4th column “UPOS” https://universaldependencies.org/format.htmlReportonyourfindings. If you have extra time, try to experiment with various features and see if you can make your accuracy go up. You can check here https://universaldependencies.org/conll18/results-upos.html what the state of the art roughly is for your selected language and treebank. Did you come close?\n"
   ]
  },
  {
   "cell_type": "code",
   "execution_count": 26,
   "metadata": {},
   "outputs": [],
   "source": [
    "import os\n",
    "import json\n",
    "import random\n",
    "import conllu\n",
    "# import sklearn\n",
    "import mglearn\n",
    "import pickle\n",
    "import numpy as np\n",
    "import pandas as pd\n",
    "import matplotlib.pyplot as plt\n",
    "from collections import namedtuple\n",
    "from sklearn import metrics\n",
    "from sklearn.model_selection import train_test_split\n",
    "from sklearn.svm import LinearSVC\n",
    "from sklearn.model_selection import GridSearchCV, PredefinedSplit\n",
    "from sklearn.pipeline import Pipeline\n",
    "from sklearn.feature_extraction import DictVectorizer\n",
    "from sklearn.feature_extraction.text import TfidfVectorizer, CountVectorizer"
   ]
  },
  {
   "cell_type": "code",
   "execution_count": 2,
   "metadata": {},
   "outputs": [],
   "source": [
    "def draw_param_heatmap(\n",
    "    param_grid,\n",
    "    x_grid, y_grid,\n",
    "    df_result,\n",
    "    summarize='mean'\n",
    "):\n",
    "    \"\"\"\n",
    "    Draw a heatmap based on 2 parameters grid.\n",
    "    \n",
    "    Parameters:\n",
    "    ----------\n",
    "    \n",
    "    param_grid: dict\n",
    "        Provide the dictionary of parameters,\n",
    "        the names of the parameterr provide in x_grid\n",
    "        and y_grid should be available in this dictionary\n",
    "    x_grid: string/object\n",
    "        Name of the parameter to be plotted\n",
    "        on the x axis. The name should be exactly same\n",
    "        as one of the key in the 'param_grid'\n",
    "    y_grid: string/object\n",
    "        Name of the parameter to be plotted\n",
    "        on the y axis. The name should be exactly same\n",
    "        as one of the key in the 'param_grid'\n",
    "    df_result: Pandas Dataframe\n",
    "        Obtain from the 'cv_results_' attribute of GridSearch\n",
    "    summarize: string/object\n",
    "        Choose the summarization method for the score\n",
    "        since there are more than 1 score. And unless 'sum'\n",
    "        is explicitly stated, the score will always be\n",
    "        mean/average\n",
    "    \n",
    "    Returns:\n",
    "    -------\n",
    "    None:\n",
    "        No return, just plot the heatmap\n",
    "    \"\"\"\n",
    "\n",
    "    # Prepare an empty dataframe\n",
    "    df_heatmap = pd.DataFrame(\n",
    "        index=param_grid[y_grid],\n",
    "        columns=param_grid[x_grid],\n",
    "        dtype=np.float32\n",
    "    )\n",
    "\n",
    "    # Fill the empty data frame\n",
    "    # With total score from other parameters\n",
    "    col_min = None\n",
    "    col_max = None\n",
    "    for k, i in enumerate(param_grid[y_grid]):\n",
    "        for l, j in enumerate(param_grid[x_grid]):\n",
    "            if summarize == 'sum':\n",
    "                df_heatmap.loc[i, j] = df_result[\n",
    "                    (df_result['param_'+y_grid] == i) &\n",
    "                    (df_result['param_'+x_grid] == j)\n",
    "                ]['mean_test_score'].sum()\n",
    "            else:\n",
    "                df_heatmap.loc[i, j] = df_result[\n",
    "                    (df_result['param_'+y_grid] == i) &\n",
    "                    (df_result['param_'+x_grid] == j)\n",
    "                ]['mean_test_score'].mean()\n",
    "            if not col_max:\n",
    "                col_max = df_heatmap.iloc[k, l]\n",
    "            else:\n",
    "                col_max = max(\n",
    "                    col_max, df_heatmap.iloc[k, l]\n",
    "                )\n",
    "            if not col_min:\n",
    "                col_min = df_heatmap.iloc[k, l]\n",
    "            else:\n",
    "                col_min = min(\n",
    "                    col_min, df_heatmap.iloc[k, l]\n",
    "                )\n",
    "\n",
    "    # Plot the heatmap\n",
    "    plt.rcParams['figure.figsize'] = [20, 10]\n",
    "    plt.rcParams['lines.linewidth'] = 5.0\n",
    "    plt.rcParams['lines.markersize'] = 15.0\n",
    "    mglearn.tools.heatmap(\n",
    "        np.array(df_heatmap),\n",
    "        xlabel=x_grid,\n",
    "        xticklabels=param_grid[x_grid],\n",
    "        ylabel=y_grid,\n",
    "        yticklabels=param_grid[y_grid],\n",
    "        cmap='bwr',\n",
    "        vmax=col_max,\n",
    "        vmin=col_min\n",
    "    )\n",
    "\n",
    "\n",
    "def sort_dictionary_value(dictionary, descending=False, dtype='dict'):\n",
    "    \"\"\"\n",
    "    Sort a dictionary by its values.\n",
    "    \n",
    "    Parameters:\n",
    "    ----------\n",
    "    \n",
    "    dictionary: dict\n",
    "        A dictionary with sortable value (i.e. int)\n",
    "\n",
    "    descending: boolean\n",
    "        Sort by ascending or descending order\n",
    "\n",
    "    dtype: str\n",
    "        Choose output type, either dict or list\n",
    "    \n",
    "    Returns:\n",
    "    -------\n",
    "    sorted: dict or list\n",
    "        A dictionary sorted by value\n",
    "    \"\"\"\n",
    "    if dtype == 'dict':\n",
    "        return {\n",
    "            i: j for i, j in\n",
    "            sorted(\n",
    "                dictionary.items(),\n",
    "                key=lambda x: x[1],\n",
    "                reverse=descending\n",
    "            )}\n",
    "    if dtype == 'list':\n",
    "        return sorted(\n",
    "            dictionary.items(),\n",
    "            key=lambda x: x[1],\n",
    "            reverse=descending\n",
    "        )\n",
    "    print('dtype can only be either \"dict\" or \"list\"')\n",
    "    return None\n",
    "\n",
    "def shuffle_pair(a, b):\n",
    "    \"\"\"\n",
    "    Shuffle a pair of list.\n",
    "    \n",
    "    Parameters:\n",
    "    ----------\n",
    "    \n",
    "    a: list\n",
    "        A list of values.\n",
    "\n",
    "    b: list\n",
    "        A list of values.\n",
    "    \n",
    "    Returns:\n",
    "    -------\n",
    "    shuffled_a: list\n",
    "        First list shuffled.\n",
    "    \n",
    "    shuffled_b: list\n",
    "        Second list shuffle correspond to a\n",
    "\n",
    "    \"\"\"\n",
    "    \n",
    "    if len(a) != len(b):\n",
    "        print('Lengths of first and second list are different.')\n",
    "        return None\n",
    "    c = list(zip(a, b))\n",
    "    random.shuffle(c)\n",
    "    shuffled_a, shuffled_b = zip(*c)\n",
    "    return shuffled_a, shuffled_b\n",
    "\n",
    "one_word = namedtuple(\n",
    "    'one_word',\n",
    "    ['word', 'pos']\n",
    ")\n",
    "\n",
    "def parse_conllu(txt):\n",
    "    \"\"\"\n",
    "    Parse a conllu sentence.\n",
    "    \n",
    "    Parameters:\n",
    "    ----------\n",
    "    \n",
    "    txt: str\n",
    "        A sentence in the form of a word\n",
    "        with multiple tags each line.\n",
    "    \n",
    "    Returns:\n",
    "    -------\n",
    "    word_tag: list\n",
    "        A list of named tuple with a word\n",
    "        and UPOS tag for each item.\n",
    "    \"\"\"\n",
    "\n",
    "    parsed = conllu.parse(txt)\n",
    "    word_tag = []\n",
    "    for word in parsed[0]:\n",
    "        word_tag.append(\n",
    "            one_word(*(\n",
    "                word['form'],\n",
    "                word['upostag']\n",
    "            ))\n",
    "        )\n",
    "    return word_tag\n",
    "\n",
    "def read_conllu(file):\n",
    "    \"\"\"\n",
    "    Read a conllu file.\n",
    "    \n",
    "    Parameters:\n",
    "    ----------\n",
    "    \n",
    "    file: .conllu file\n",
    "        Words with their tags available\n",
    "    \n",
    "    Returns:\n",
    "    -------\n",
    "    doc: list\n",
    "        A list of sentences,\n",
    "        each sentence is a list of words.\n",
    "    \"\"\"\n",
    "\n",
    "    doc = []\n",
    "    current_sentence = ''\n",
    "    with open(file) as f:\n",
    "        for line in f:\n",
    "            if line[0] == '#':\n",
    "                continue\n",
    "            if line == '\\n':\n",
    "                if current_sentence:\n",
    "                    doc.append(\n",
    "                        parse_conllu(current_sentence)\n",
    "                    )\n",
    "                    current_sentence = ''\n",
    "                continue\n",
    "            current_sentence += line\n",
    "        else:\n",
    "            if current_sentence:\n",
    "                doc.append(\n",
    "                    parse_conllu(current_sentence)\n",
    "                )\n",
    "    return doc\n",
    "\n",
    "def generate_sentence_features(sentence):\n",
    "    \"\"\"\n",
    "    Generate a feature matrix for each element in a sentence.\n",
    "    \n",
    "    Parameters:\n",
    "    ----------\n",
    "    \n",
    "    sentence: list\n",
    "        A list of (word, POS tag) tuple.\n",
    "    \n",
    "    Returns:\n",
    "    -------\n",
    "    sentence_features: list\n",
    "        A list of features per element in the sentence.\n",
    "    \"\"\"\n",
    "\n",
    "    sentence_features = []\n",
    "    for i, word in enumerate(sentence):\n",
    "        word_features={}\n",
    "        # The word itself should be a features\n",
    "        word_features['word_' + word.word] = 1\n",
    "        # Then Vietnamese words depend heavily\n",
    "        # on the word before and after it\n",
    "        # to form meanings.\n",
    "        # Though not more than that,\n",
    "        # certain words have no meaning\n",
    "        # standing alone as well.\n",
    "        # So before and after are good enough\n",
    "        if i == 0:\n",
    "            word_features['word_previous_'] = 1\n",
    "        else:\n",
    "            word_features[\n",
    "                'word_previous_'\n",
    "                + sentence[i-1].word\n",
    "            ] = 1\n",
    "        if i == len(sentence) - 1:\n",
    "            word_features['word_next_'] = 1\n",
    "        else:\n",
    "            word_features[\n",
    "                'word_next_'\n",
    "                + sentence[i+1].word\n",
    "            ] = 1\n",
    "        # There are a lot of double words in Vietnamese\n",
    "        # separated by a space\n",
    "        # Individually they mean different thing,\n",
    "        # or just make no sense at all\n",
    "        # and they are usually ADJ or NOUN, to my knowledge\n",
    "        if ' ' in word.word:\n",
    "            word_features['has_space'] = 1\n",
    "        else:\n",
    "            word_features['has_space'] = 0\n",
    "        sentence_features.append(word_features)\n",
    "    return sentence_features\n",
    "\n",
    "def prep_data(sentences):\n",
    "    \"\"\"\n",
    "    Split data into features and labels.\n",
    "    \n",
    "    Parameters:\n",
    "    ----------\n",
    "    \n",
    "    sentences: list\n",
    "        A list of sentences in form of (word, POS) tuples.\n",
    "    \n",
    "    Returns:\n",
    "    -------\n",
    "    all_labels: list\n",
    "        A list of POS label for each element in each sentence.\n",
    "    all_features: lít\n",
    "        A list of features for each element in each sentence.\n",
    "    \"\"\"\n",
    "\n",
    "    all_labels = []\n",
    "    all_features = []\n",
    "    for sentence in sentences:\n",
    "        sentence_features = generate_sentence_features(sentence)\n",
    "        assert len(sentence_features) == len(sentence)\n",
    "        for word, features in zip(sentence, sentence_features):\n",
    "            all_labels.append(word.pos)\n",
    "            all_features.append(features)\n",
    "    return all_labels, all_features"
   ]
  },
  {
   "cell_type": "code",
   "execution_count": 2,
   "metadata": {
    "scrolled": true
   },
   "outputs": [
    {
     "name": "stdout",
     "output_type": "stream",
     "text": [
      "class label: pos\n",
      "text: I am a member of a canoeing club and I can tell you the truth that Deliverance is synonomous with the peacefulness and tranquility of the experience. As we put our boats into the water, banjoes echo in the back of the conscious mind. This movie is timeless because it waxes philosophical of human's place in nature and technology's effect upon man's relationship with nature. We see it in the bow fishing. We see it in the home made tent. There is also city man's disdain and feeling of superiority to the rural woodsman \\cracker\\\". The fact that the Banker from Atlanta (Ned Beatty) has \\\"bad teeth\\\" is meant to put him on the same level with the woodsmen who also have bad teeth. Ultimately, the struggle of life and death supersedes \\\"civilized man's\\\" suppositives about \\\"The Law\\\". This canoe trip ends too soon for the viewer, but alas Not Soon Enough for the characters.\"\n"
     ]
    }
   ],
   "source": [
    "with open('Data/imdb_train.json') as f:\n",
    "    data = json.load(f)\n",
    "random.shuffle(data)\n",
    "print('class label:', data[0]['class'])\n",
    "print('text:', data[0]['text'])"
   ]
  },
  {
   "cell_type": "code",
   "execution_count": 3,
   "metadata": {
    "scrolled": true
   },
   "outputs": [
    {
     "name": "stdout",
     "output_type": "stream",
     "text": [
      "This many texts 25000\n",
      "This many labels 25000\n",
      "\n",
      "pos I am a member of a canoeing club and I can tell yo...\n",
      "neg I have just watched the movie for the first time. ...\n",
      "pos This show is awesome! and I've seen it about 6 tim...\n",
      "neg The name of Nick Stahl, the young cast and the att...\n",
      "neg This film takes what could have been a good idea, ...\n",
      "pos My kids recently started watching the reruns of th...\n",
      "neg Ah, Channel 5 of local Mexican t.v. Everyday, at 2...\n",
      "neg Having seen the first ten episodes, I must say thi...\n",
      "neg The reason the DVD releases of this film are in bl...\n",
      "neg Damp telling of the American Revolution.  When far...\n",
      "pos There have been countless talking-animal films in ...\n",
      "neg I really looked forward to see Planet of the Apes,...\n",
      "neg Not sure why this movie seems to have gotten such ...\n",
      "neg Camera work - Why is the camera work in this movie...\n",
      "pos After Racism, Rural exodus -also known as migratio...\n",
      "pos The world of the Dragon Hunters is a 3D gravity ch...\n",
      "pos \\The Invisible Ray\\\" is part science fiction and p...\n",
      "neg Kurt Thomas in one of the series of gymnast olympi...\n",
      "neg i don't know what they were thinking.by they,i mea...\n",
      "pos This is the first Michael Vartan movie i've seen-i...\n"
     ]
    }
   ],
   "source": [
    "# We need to gather the texts and labels into separate lists\n",
    "texts = [one_example['text'] for one_example in data]\n",
    "labels = [one_example['class'] for one_example in data]\n",
    "print('This many texts', len(texts))\n",
    "print('This many labels', len(labels))\n",
    "print()\n",
    "for label, text in list(zip(labels, texts))[:20]:\n",
    "    print(label, text[:50]+'...')"
   ]
  },
  {
   "cell_type": "code",
   "execution_count": 4,
   "metadata": {
    "scrolled": true
   },
   "outputs": [
    {
     "name": "stdout",
     "output_type": "stream",
     "text": [
      "Unique features:\n",
      "['an', 'and', 'auto', 'build', 'compiler', 'completion', 'documentation', 'editor', 'error', 'formatter', 'friendly', 'great', 'has', 'inspections', 'integrated', 'manager', 'messages', 'more', 'multi', 'notch', 'package', 'rust', 'smart', 'support', 'tool', 'tooling', 'top', 'type', 'useful', 'with']\n",
      "\n",
      "Feature vectors (sparse format):\n",
      "  (0, 21)\t0.5\n",
      "  (0, 12)\t0.5\n",
      "  (0, 11)\t0.5\n",
      "  (0, 6)\t0.5\n",
      "  (1, 29)\t0.3393931489111758\n",
      "  (1, 28)\t0.4206690600631704\n",
      "  (1, 16)\t0.4206690600631704\n",
      "  (1, 10)\t0.4206690600631704\n",
      "  (1, 8)\t0.4206690600631704\n",
      "  (1, 4)\t0.4206690600631704\n",
      "  (2, 26)\t0.3094185760868625\n",
      "  (2, 25)\t0.3094185760868625\n",
      "  (2, 24)\t0.3094185760868625\n",
      "  (2, 20)\t0.3094185760868625\n",
      "  (2, 19)\t0.3094185760868625\n",
      "  (2, 15)\t0.3094185760868625\n",
      "  (2, 14)\t0.3094185760868625\n",
      "  (2, 3)\t0.3094185760868625\n",
      "  (2, 1)\t0.41444245308083316\n",
      "  (2, 0)\t0.2496369589290994\n",
      "  (3, 29)\t0.27274066223567134\n",
      "  (3, 27)\t0.3380550208269348\n",
      "  (3, 23)\t0.3380550208269348\n",
      "  (3, 22)\t0.3380550208269348\n",
      "  (3, 18)\t0.3380550208269348\n",
      "  (3, 13)\t0.3380550208269348\n",
      "  (3, 7)\t0.3380550208269348\n",
      "  (3, 5)\t0.3380550208269348\n",
      "  (3, 2)\t0.27274066223567134\n",
      "  (3, 1)\t0.22639938732779208\n",
      "  (4, 17)\t0.5163739676148649\n",
      "  (4, 9)\t0.5163739676148649\n",
      "  (4, 2)\t0.4166072657167828\n",
      "  (4, 1)\t0.345821664219199\n",
      "  (4, 0)\t0.4166072657167828\n"
     ]
    }
   ],
   "source": [
    "# Check what's the different between count and tfidf\n",
    "vectorizer = TfidfVectorizer()\n",
    "\n",
    "toy_data = [\n",
    "    'Rust has great documentation, ',\n",
    "    'a friendly compiler with useful error messages, ',\n",
    "    'and top-notch tooling — an integrated package manager and build tool, ',\n",
    "    'smart multi-editor support with auto-completion and type inspections, ',\n",
    "    'an auto-formatter, and more.'\n",
    "]\n",
    "\n",
    "vectorizer.fit(toy_data)\n",
    "print('Unique features:')\n",
    "print(vectorizer.get_feature_names())\n",
    "print()\n",
    "print('Feature vectors (sparse format):')\n",
    "print(vectorizer.transform(toy_data))"
   ]
  },
  {
   "cell_type": "markdown",
   "metadata": {},
   "source": [
    "Each features are assigned a idf score instead of frequency"
   ]
  },
  {
   "cell_type": "code",
   "execution_count": 6,
   "metadata": {},
   "outputs": [
    {
     "name": "stdout",
     "output_type": "stream",
     "text": [
      "(20000, 68247)\n",
      "(5000, 68247)\n"
     ]
    }
   ],
   "source": [
    "# With Validation\n",
    "# train_text_set, test_texts, train_label_set, test_labels = train_test_split(\n",
    "#     texts, labels,\n",
    "#     test_size=0.2, random_state=4\n",
    "# )\n",
    "# train_texts, val_texts, train_labels, val_labels = train_test_split(\n",
    "#     train_text_set, train_label_set,\n",
    "#     test_size=0.2, random_state=4\n",
    "# )\n",
    "\n",
    "# Without Validation\n",
    "train_texts, test_texts, train_labels, test_labels = train_test_split(\n",
    "    texts, labels,\n",
    "    test_size=0.2, random_state=4\n",
    ")\n",
    "\n",
    "vectorizer = TfidfVectorizer(\n",
    "    max_features=100000,\n",
    "    binary=True,\n",
    "    ngram_range=(1,1)\n",
    ")\n",
    "\n",
    "feature_matrix_train = vectorizer.fit_transform(train_texts)\n",
    "feature_matrix_test = vectorizer.transform(test_texts)\n",
    "\n",
    "print(feature_matrix_train.shape)\n",
    "print(feature_matrix_test.shape)"
   ]
  },
  {
   "cell_type": "code",
   "execution_count": 7,
   "metadata": {},
   "outputs": [
    {
     "name": "stdout",
     "output_type": "stream",
     "text": [
      "[LibLinear]"
     ]
    },
    {
     "data": {
      "text/plain": [
       "LinearSVC(C=0.0005, class_weight=None, dual=True, fit_intercept=True,\n",
       "          intercept_scaling=1, loss='squared_hinge', max_iter=1000,\n",
       "          multi_class='ovr', penalty='l2', random_state=None, tol=0.0001,\n",
       "          verbose=1)"
      ]
     },
     "execution_count": 7,
     "metadata": {},
     "output_type": "execute_result"
    }
   ],
   "source": [
    "classifier = LinearSVC(\n",
    "    C=0.0005,\n",
    "    verbose=1\n",
    ")\n",
    "\n",
    "classifier.fit(\n",
    "    feature_matrix_train,\n",
    "    train_labels\n",
    ")"
   ]
  },
  {
   "cell_type": "code",
   "execution_count": 8,
   "metadata": {},
   "outputs": [
    {
     "name": "stdout",
     "output_type": "stream",
     "text": [
      "Test set score 0.8284\n",
      "Train set score: 0.84435\n"
     ]
    }
   ],
   "source": [
    "print('Test set score', classifier.score(feature_matrix_test, test_labels))\n",
    "print('Train set score:', classifier.score(feature_matrix_train, train_labels))"
   ]
  },
  {
   "cell_type": "markdown",
   "metadata": {},
   "source": [
    "With the same parameters in the `vectorizer` and the `svm`, vectorizing the string by *idf* score probably gave the `svm` more information so it's less forgiving in classifying task. Next, I'll use `GridSearch` to alter `C`"
   ]
  },
  {
   "cell_type": "code",
   "execution_count": 18,
   "metadata": {},
   "outputs": [],
   "source": [
    "pipe_tfidf = Pipeline(\n",
    "    steps=[\n",
    "        (\n",
    "            'vectorize',\n",
    "            TfidfVectorizer(\n",
    "                max_features=100000,\n",
    "                binary=True,\n",
    "                ngram_range=(1,1)\n",
    "            )\n",
    "        ),\n",
    "        (\n",
    "            'classify',\n",
    "            LinearSVC(\n",
    "                C=0.0005,\n",
    "                verbose=1\n",
    "            )\n",
    "        )\n",
    "    ]\n",
    ")"
   ]
  },
  {
   "cell_type": "code",
   "execution_count": 19,
   "metadata": {
    "scrolled": true
   },
   "outputs": [
    {
     "name": "stdout",
     "output_type": "stream",
     "text": [
      "[LibLinear]Test set score 0.8284\n",
      "Train set score: 0.84435\n"
     ]
    }
   ],
   "source": [
    "pipe_tfidf.fit(train_texts, train_labels)\n",
    "print('Test set score', pipe_tfidf.score(test_texts, test_labels))\n",
    "print('Train set score:', pipe_tfidf.score(train_texts, train_labels))"
   ]
  },
  {
   "cell_type": "markdown",
   "metadata": {},
   "source": [
    "So the pipe works, now use it for GridSearchCV"
   ]
  },
  {
   "cell_type": "code",
   "execution_count": 20,
   "metadata": {},
   "outputs": [],
   "source": [
    "pipe_tfidf = Pipeline(\n",
    "    steps=[\n",
    "        (\n",
    "            'vectorize',\n",
    "            TfidfVectorizer(\n",
    "                max_features=100000,\n",
    "                binary=True,\n",
    "                ngram_range=(1,1)\n",
    "            )\n",
    "        ),\n",
    "        (\n",
    "            'classify',\n",
    "            LinearSVC(\n",
    "                C=0.0005,\n",
    "                verbose=1\n",
    "            )\n",
    "        )\n",
    "    ]\n",
    ")\n",
    "\n",
    "grid_param_tfidf = {\n",
    "    'vectorize__ngram_range': [\n",
    "        (1, 1),\n",
    "        (1, 2),\n",
    "        (2, 2),\n",
    "        (1, 3),\n",
    "        (2, 3)\n",
    "    ],\n",
    "    'classify__C': np.logspace(\n",
    "        -4, 4, 5\n",
    "    )\n",
    "}"
   ]
  },
  {
   "cell_type": "code",
   "execution_count": 21,
   "metadata": {},
   "outputs": [],
   "source": [
    "grid_tfidf = GridSearchCV(\n",
    "    pipe_tfidf,\n",
    "    grid_param_tfidf,\n",
    "    cv=5,\n",
    "    n_jobs=4,\n",
    "    verbose=1\n",
    ")"
   ]
  },
  {
   "cell_type": "code",
   "execution_count": 22,
   "metadata": {
    "scrolled": true
   },
   "outputs": [
    {
     "name": "stdout",
     "output_type": "stream",
     "text": [
      "Fitting 5 folds for each of 25 candidates, totalling 125 fits\n"
     ]
    },
    {
     "name": "stderr",
     "output_type": "stream",
     "text": [
      "[Parallel(n_jobs=4)]: Using backend LokyBackend with 4 concurrent workers.\n",
      "[Parallel(n_jobs=4)]: Done  42 tasks      | elapsed:  4.8min\n",
      "[Parallel(n_jobs=4)]: Done 125 out of 125 | elapsed: 17.3min finished\n"
     ]
    },
    {
     "name": "stdout",
     "output_type": "stream",
     "text": [
      "[LibLinear]"
     ]
    },
    {
     "data": {
      "text/plain": [
       "GridSearchCV(cv=5, error_score='raise-deprecating',\n",
       "             estimator=Pipeline(memory=None,\n",
       "                                steps=[('vectorize',\n",
       "                                        TfidfVectorizer(analyzer='word',\n",
       "                                                        binary=True,\n",
       "                                                        decode_error='strict',\n",
       "                                                        dtype=<class 'numpy.float64'>,\n",
       "                                                        encoding='utf-8',\n",
       "                                                        input='content',\n",
       "                                                        lowercase=True,\n",
       "                                                        max_df=1.0,\n",
       "                                                        max_features=100000,\n",
       "                                                        min_df=1,\n",
       "                                                        ngram_range=(1, 1),\n",
       "                                                        norm='l2',\n",
       "                                                        preprocessor=None,\n",
       "                                                        smooth_idf=True,\n",
       "                                                        stop...\n",
       "                                                  loss='squared_hinge',\n",
       "                                                  max_iter=1000,\n",
       "                                                  multi_class='ovr',\n",
       "                                                  penalty='l2',\n",
       "                                                  random_state=None, tol=0.0001,\n",
       "                                                  verbose=1))],\n",
       "                                verbose=False),\n",
       "             iid='warn', n_jobs=4,\n",
       "             param_grid={'classify__C': array([1.e-04, 1.e-02, 1.e+00, 1.e+02, 1.e+04]),\n",
       "                         'vectorize__ngram_range': [(1, 1), (1, 2), (2, 2),\n",
       "                                                    (1, 3), (2, 3)]},\n",
       "             pre_dispatch='2*n_jobs', refit=True, return_train_score=False,\n",
       "             scoring=None, verbose=1)"
      ]
     },
     "execution_count": 22,
     "metadata": {},
     "output_type": "execute_result"
    }
   ],
   "source": [
    "grid_tfidf.fit(train_texts, train_labels)"
   ]
  },
  {
   "cell_type": "code",
   "execution_count": 31,
   "metadata": {},
   "outputs": [
    {
     "name": "stdout",
     "output_type": "stream",
     "text": [
      "The best combination is as follow:\n",
      "SVC C: 1.0\n",
      "tfidf ngram_range: (1, 2)\n"
     ]
    }
   ],
   "source": [
    "print('The best combination is as follow:')\n",
    "for param, value in grid_tfidf.best_params_.items():\n",
    "    if 'vectorize' in param:\n",
    "        print('tfidf {}: {}'.format(param[11:], value))\n",
    "    else:\n",
    "        print('SVC {}: {}'.format(param[10:], value))"
   ]
  },
  {
   "cell_type": "code",
   "execution_count": 24,
   "metadata": {},
   "outputs": [
    {
     "data": {
      "text/plain": [
       "0.8984"
      ]
     },
     "execution_count": 24,
     "metadata": {},
     "output_type": "execute_result"
    }
   ],
   "source": [
    "grid_tfidf.best_estimator_.score(test_texts, test_labels)"
   ]
  },
  {
   "cell_type": "code",
   "execution_count": 63,
   "metadata": {},
   "outputs": [
    {
     "data": {
      "image/png": "[encoded data removed]",
      "text/plain": [
       "<Figure size 1440x720 with 1 Axes>"
      ]
     },
     "metadata": {
      "needs_background": "light"
     },
     "output_type": "display_data"
    }
   ],
   "source": [
    "result_tfidf = pd.DataFrame(grid_tfidf.cv_results_)\n",
    "draw_param_heatmap(\n",
    "    grid_param_tfidf,\n",
    "    'classify__C',\n",
    "    'vectorize__ngram_range',\n",
    "    result_tfidf\n",
    ")"
   ]
  },
  {
   "cell_type": "code",
   "execution_count": 64,
   "metadata": {},
   "outputs": [],
   "source": [
    "pipe_count = Pipeline(\n",
    "    steps=[\n",
    "        (\n",
    "            'vectorize',\n",
    "            CountVectorizer(\n",
    "                max_features=100000,\n",
    "                binary=True,\n",
    "                ngram_range=(1,1)\n",
    "            )\n",
    "        ),\n",
    "        (\n",
    "            'classify',\n",
    "            LinearSVC(\n",
    "                C=0.0005,\n",
    "                verbose=1\n",
    "            )\n",
    "        )\n",
    "    ]\n",
    ")\n",
    "\n",
    "grid_param_count = {\n",
    "    'vectorize__ngram_range': [\n",
    "        (1, 1),\n",
    "        (1, 2),\n",
    "        (2, 2),\n",
    "        (1, 3),\n",
    "        (2, 3)\n",
    "    ],\n",
    "    'classify__C': np.logspace(\n",
    "        -4, 4, 5\n",
    "    )\n",
    "}"
   ]
  },
  {
   "cell_type": "code",
   "execution_count": 65,
   "metadata": {
    "scrolled": true
   },
   "outputs": [
    {
     "name": "stdout",
     "output_type": "stream",
     "text": [
      "Fitting 5 folds for each of 25 candidates, totalling 125 fits\n"
     ]
    },
    {
     "name": "stderr",
     "output_type": "stream",
     "text": [
      "[Parallel(n_jobs=4)]: Using backend LokyBackend with 4 concurrent workers.\n",
      "[Parallel(n_jobs=4)]: Done  42 tasks      | elapsed:  5.2min\n",
      "[Parallel(n_jobs=4)]: Done 125 out of 125 | elapsed: 18.1min finished\n"
     ]
    },
    {
     "name": "stdout",
     "output_type": "stream",
     "text": [
      "[LibLinear]"
     ]
    },
    {
     "data": {
      "text/plain": [
       "GridSearchCV(cv=5, error_score='raise-deprecating',\n",
       "             estimator=Pipeline(memory=None,\n",
       "                                steps=[('vectorize',\n",
       "                                        CountVectorizer(analyzer='word',\n",
       "                                                        binary=True,\n",
       "                                                        decode_error='strict',\n",
       "                                                        dtype=<class 'numpy.int64'>,\n",
       "                                                        encoding='utf-8',\n",
       "                                                        input='content',\n",
       "                                                        lowercase=True,\n",
       "                                                        max_df=1.0,\n",
       "                                                        max_features=100000,\n",
       "                                                        min_df=1,\n",
       "                                                        ngram_range=(1, 1),\n",
       "                                                        preprocessor=None,\n",
       "                                                        stop_words=None,\n",
       "                                                        strip_accents=No...\n",
       "                                                  loss='squared_hinge',\n",
       "                                                  max_iter=1000,\n",
       "                                                  multi_class='ovr',\n",
       "                                                  penalty='l2',\n",
       "                                                  random_state=None, tol=0.0001,\n",
       "                                                  verbose=1))],\n",
       "                                verbose=False),\n",
       "             iid='warn', n_jobs=4,\n",
       "             param_grid={'classify__C': array([1.e-04, 1.e-02, 1.e+00, 1.e+02, 1.e+04]),\n",
       "                         'vectorize__ngram_range': [(1, 1), (1, 2), (2, 2),\n",
       "                                                    (1, 3), (2, 3)]},\n",
       "             pre_dispatch='2*n_jobs', refit=True, return_train_score=False,\n",
       "             scoring=None, verbose=1)"
      ]
     },
     "execution_count": 65,
     "metadata": {},
     "output_type": "execute_result"
    }
   ],
   "source": [
    "grid_count = GridSearchCV(\n",
    "    pipe_count,\n",
    "    grid_param_count,\n",
    "    cv=5,\n",
    "    n_jobs=4,\n",
    "    verbose=1\n",
    ")\n",
    "\n",
    "grid_count.fit(train_texts, train_labels)"
   ]
  },
  {
   "cell_type": "code",
   "execution_count": 66,
   "metadata": {},
   "outputs": [
    {
     "name": "stdout",
     "output_type": "stream",
     "text": [
      "The best combination is as follow:\n",
      "SVC C: 0.01\n",
      "count ngram_range: (1, 2)\n"
     ]
    },
    {
     "data": {
      "text/plain": [
       "0.886"
      ]
     },
     "execution_count": 66,
     "metadata": {},
     "output_type": "execute_result"
    }
   ],
   "source": [
    "print('The best combination is as follow:')\n",
    "for param, value in grid_count.best_params_.items():\n",
    "    if 'vectorize' in param:\n",
    "        print('count {}: {}'.format(param[11:], value))\n",
    "    else:\n",
    "        print('SVC {}: {}'.format(param[10:], value))\n",
    "\n",
    "grid_count.best_estimator_.score(test_texts, test_labels)"
   ]
  },
  {
   "cell_type": "code",
   "execution_count": 67,
   "metadata": {},
   "outputs": [
    {
     "data": {
      "image/png": "[encoded data removed]",
      "text/plain": [
       "<Figure size 1440x720 with 1 Axes>"
      ]
     },
     "metadata": {
      "needs_background": "light"
     },
     "output_type": "display_data"
    }
   ],
   "source": [
    "result_count = pd.DataFrame(grid_count.cv_results_)\n",
    "draw_param_heatmap(\n",
    "    grid_param_count,\n",
    "    'classify__C',\n",
    "    'vectorize__ngram_range',\n",
    "    result_count\n",
    ")"
   ]
  },
  {
   "cell_type": "markdown",
   "metadata": {},
   "source": [
    "Compare to `Tfidf` vectorizing method, `Count` method provides a slightly lower score when pass through a `svm`.\n",
    "\n",
    "Also the sweet spot of the 2 are also a tad different. While `Count` found its best `C` value at about `C=0.01`, probably because counting didn't take the weight into account while, `Tfidf` already has some degree of that in the weight so it prefers a `C=1`.\n",
    "\n",
    "However, both shows a better performance in multiple `ngram_range` compare to a single `ngram_range`, meaning `(1, 2)` and `(1, 3)` instead of `(1, 1)` or `(2, 2)`. Humanly speaking that might be because the `svm` is provided about the information about the word itself as well as some form of context."
   ]
  },
  {
   "cell_type": "code",
   "execution_count": 79,
   "metadata": {},
   "outputs": [],
   "source": [
    "# # Since I'm doing this in a remote notebook\n",
    "# # I'll save the trained model for future use\n",
    "# with open('Model/grid_count.pickle','wb') as f:\n",
    "#     pickle.dump(grid_count, f)\n",
    "\n",
    "# with open('Model/grid_count_best.pickle','wb') as f:\n",
    "#     pickle.dump((\n",
    "#         grid_count.best_estimator_.steps[0][1],\n",
    "#         grid_count.best_estimator_.steps[1][1]\n",
    "#     ), f)\n",
    "\n",
    "# with open('Model/grid_tfidf.pickle','wb') as f:\n",
    "#     pickle.dump(grid_tfidf, f)\n",
    "\n",
    "# with open('Model/grid_ifidf_best.pickle','wb') as f:\n",
    "#     pickle.dump((\n",
    "#         grid_tfidf.best_estimator_.steps[0][1],\n",
    "#         grid_tfidf.best_estimator_.steps[1][1]\n",
    "#     ), f)"
   ]
  },
  {
   "cell_type": "code",
   "execution_count": 120,
   "metadata": {},
   "outputs": [],
   "source": [
    "# with open('Model/grid_count.pickle','rb') as f:\n",
    "#     grid_count = pickle.load(f)"
   ]
  },
  {
   "cell_type": "code",
   "execution_count": 127,
   "metadata": {},
   "outputs": [],
   "source": [
    "features_count = {\n",
    "    j: i for i, j\n",
    "    in grid_count.best_estimator_.steps[0][1].vocabulary_.items()\n",
    "}\n",
    "\n",
    "lst_count = [\n",
    "    (c, i) for i, c in\n",
    "    enumerate(grid_count.best_estimator_.steps[1][1].coef_[0])\n",
    "]\n",
    "\n",
    "lst_count.sort()"
   ]
  },
  {
   "cell_type": "code",
   "execution_count": 131,
   "metadata": {
    "scrolled": true
   },
   "outputs": [
    {
     "name": "stdout",
     "output_type": "stream",
     "text": [
      "awful\n",
      "worst\n",
      "waste\n",
      "boring\n",
      "poorly\n",
      "terrible\n",
      "bad\n",
      "dull\n",
      "the worst\n",
      "poor\n",
      "disappointing\n",
      "disappointment\n",
      "save\n",
      "lacks\n",
      "mess\n",
      "annoying\n",
      "lame\n",
      "not worth\n",
      "laughable\n",
      "horrible\n",
      "worse\n",
      "at best\n",
      "stupid\n",
      "unfortunately\n",
      "wonder\n",
      "waste of\n",
      "forgettable\n",
      "oh\n",
      "not good\n",
      "just not\n",
      "dreadful\n",
      "ridiculous\n",
      "weak\n",
      "unfunny\n",
      "avoid\n",
      "not even\n",
      "not recommend\n",
      "pointless\n",
      "okay\n",
      "redeeming\n",
      "the original\n",
      "mediocre\n",
      "pathetic\n",
      "bored\n",
      "fails\n",
      "material\n",
      "sorry\n",
      "offensive\n",
      "way too\n",
      "than this\n",
      "----------------------\n",
      "believable\n",
      "worth\n",
      "liked\n",
      "terrific\n",
      "powerful\n",
      "job\n",
      "fun\n",
      "10 10\n",
      "the best\n",
      "beautiful\n",
      "much as\n",
      "underrated\n",
      "hilarious\n",
      "enjoyed this\n",
      "especially\n",
      "simple\n",
      "loved this\n",
      "pretty good\n",
      "surprisingly\n",
      "love this\n",
      "enjoyed\n",
      "touching\n",
      "shows\n",
      "loved\n",
      "favorite\n",
      "true\n",
      "must see\n",
      "bit\n",
      "rare\n",
      "better than\n",
      "outstanding\n",
      "very good\n",
      "wonderfully\n",
      "definitely worth\n",
      "to all\n",
      "fantastic\n",
      "well worth\n",
      "refreshing\n",
      "of what\n",
      "brilliant\n",
      "today\n",
      "amazing\n",
      "incredible\n",
      "enjoyed it\n",
      "wonderful\n",
      "superb\n",
      "great\n",
      "enjoyable\n",
      "perfect\n",
      "excellent\n"
     ]
    }
   ],
   "source": [
    "for _, i in lst_count[:50]:\n",
    "    print(features_count[i])\n",
    "print('----------------------')\n",
    "for _, i in lst_count[-50:]:\n",
    "    print(features_count[i])"
   ]
  },
  {
   "cell_type": "markdown",
   "metadata": {},
   "source": [
    "Certainly the `ngram_range` had some effects on the features and how the features were used. Words like 'not recommend' was picked up just fine instead of 'recommend' alone for a negative review. Also somehow bad movies are usually sequel because the word 'the original' was quite the determine factor."
   ]
  },
  {
   "cell_type": "markdown",
   "metadata": {},
   "source": [
    "#### Now on to the language identification"
   ]
  },
  {
   "cell_type": "code",
   "execution_count": 4,
   "metadata": {},
   "outputs": [],
   "source": [
    "path_lang = 'language-identification/'\n",
    "lang_text_train = []\n",
    "lang_text_val = []\n",
    "lang_text_test = []\n",
    "lang_label_train = []\n",
    "lang_label_val = []\n",
    "lang_label_test = []\n",
    "for file in os.listdir(path_lang):\n",
    "    temp = []\n",
    "    with open(path_lang + file) as f:\n",
    "        for line in f:\n",
    "            temp.append(line)\n",
    "    if 'train' in file:\n",
    "        lang_text_train = lang_text_train + temp\n",
    "        lang_label_train = lang_label_train + [file[:2]]*len(temp)\n",
    "    if 'devel' in file:\n",
    "        lang_text_val = lang_text_val + temp\n",
    "        lang_label_val = lang_label_val + [file[:2]]*len(temp)\n",
    "    if 'test' in file:\n",
    "        lang_text_test = lang_text_test + temp\n",
    "        lang_label_test = lang_label_test + [file[:2]]*len(temp)"
   ]
  },
  {
   "cell_type": "code",
   "execution_count": 5,
   "metadata": {},
   "outputs": [
    {
     "name": "stdout",
     "output_type": "stream",
     "text": [
      "Number of lines in train text: 5000\n",
      "Number of lines in train label: 5000\n",
      "Number of lines in validation text: 5000\n",
      "Number of lines in validation label: 5000\n",
      "Number of lines in test text: 5000\n",
      "Number of lines in test label: 5000\n"
     ]
    }
   ],
   "source": [
    "print(\n",
    "    'Number of lines in train text:',\n",
    "    len(lang_text_train)\n",
    ")\n",
    "print(\n",
    "    'Number of lines in train label:',\n",
    "    len(lang_label_train)\n",
    ")\n",
    "print(\n",
    "    'Number of lines in validation text:',\n",
    "    len(lang_text_val)\n",
    ")\n",
    "print(\n",
    "    'Number of lines in validation label:',\n",
    "    len(lang_label_val)\n",
    ")\n",
    "print(\n",
    "    'Number of lines in test text:',\n",
    "    len(lang_text_test)\n",
    ")\n",
    "print(\n",
    "    'Number of lines in test label:',\n",
    "    len(lang_label_test)\n",
    ")"
   ]
  },
  {
   "cell_type": "code",
   "execution_count": 6,
   "metadata": {},
   "outputs": [],
   "source": [
    "lang_text_train, lang_label_train = shuffle_pair(\n",
    "    lang_text_train, lang_label_train\n",
    ")\n",
    "lang_text_val, lang_label_val = shuffle_pair(\n",
    "    lang_text_val, lang_label_val\n",
    ")\n",
    "lang_text_test, lang_label_test = shuffle_pair(\n",
    "    lang_text_test, lang_label_test\n",
    ")"
   ]
  },
  {
   "cell_type": "code",
   "execution_count": 7,
   "metadata": {},
   "outputs": [],
   "source": [
    "lang_text_train = list(lang_text_train)\n",
    "lang_label_train = list(lang_label_train)\n",
    "lang_text_val = list(lang_text_val)\n",
    "lang_label_val = list(lang_label_val)\n",
    "lang_text_test = list(lang_text_test)\n",
    "lang_label_test = list(lang_label_test)"
   ]
  },
  {
   "cell_type": "code",
   "execution_count": 8,
   "metadata": {},
   "outputs": [],
   "source": [
    "pipe_lang = Pipeline(\n",
    "    steps=[\n",
    "        (\n",
    "            'vectorize',\n",
    "            TfidfVectorizer(\n",
    "                max_features=100000,\n",
    "                binary=True,\n",
    "                ngram_range=(1,1)\n",
    "            )\n",
    "        ),\n",
    "        (\n",
    "            'classify',\n",
    "            LinearSVC(\n",
    "                C=0.0005,\n",
    "                verbose=1\n",
    "            )\n",
    "        )\n",
    "    ]\n",
    ")\n",
    "\n",
    "grid_param_lang = {\n",
    "    'vectorize__ngram_range': [\n",
    "        (1, 1),\n",
    "        (1, 2),\n",
    "        (2, 2),\n",
    "        (1, 3),\n",
    "        (2, 3)\n",
    "    ],\n",
    "    'classify__C': np.logspace(\n",
    "        -4, 4, 5\n",
    "    )\n",
    "}\n",
    "\n",
    "pds = PredefinedSplit(\n",
    "    test_fold=[-1]*len(lang_label_train)+[0]*len(lang_label_val)\n",
    ")\n",
    "\n",
    "grid_lang = GridSearchCV(\n",
    "    pipe_lang,\n",
    "    grid_param_lang,\n",
    "#     cv=5,\n",
    "    cv=pds,\n",
    "    n_jobs=4,\n",
    "    verbose=1\n",
    ")"
   ]
  },
  {
   "cell_type": "code",
   "execution_count": 9,
   "metadata": {
    "scrolled": true
   },
   "outputs": [
    {
     "name": "stdout",
     "output_type": "stream",
     "text": [
      "Fitting 1 folds for each of 25 candidates, totalling 25 fits\n"
     ]
    },
    {
     "name": "stderr",
     "output_type": "stream",
     "text": [
      "[Parallel(n_jobs=4)]: Using backend LokyBackend with 4 concurrent workers.\n",
      "[Parallel(n_jobs=4)]: Done  25 out of  25 | elapsed:   18.2s finished\n"
     ]
    },
    {
     "name": "stdout",
     "output_type": "stream",
     "text": [
      "[LibLinear]"
     ]
    },
    {
     "data": {
      "text/plain": [
       "GridSearchCV(cv=PredefinedSplit(test_fold=array([-1, -1, ...,  0,  0])),\n",
       "             error_score='raise-deprecating',\n",
       "             estimator=Pipeline(memory=None,\n",
       "                                steps=[('vectorize',\n",
       "                                        TfidfVectorizer(analyzer='word',\n",
       "                                                        binary=True,\n",
       "                                                        decode_error='strict',\n",
       "                                                        dtype=<class 'numpy.float64'>,\n",
       "                                                        encoding='utf-8',\n",
       "                                                        input='content',\n",
       "                                                        lowercase=True,\n",
       "                                                        max_df=1.0,\n",
       "                                                        max_features=100000,\n",
       "                                                        min_df=1,\n",
       "                                                        ngram_range=(1, 1),...\n",
       "                                                  loss='squared_hinge',\n",
       "                                                  max_iter=1000,\n",
       "                                                  multi_class='ovr',\n",
       "                                                  penalty='l2',\n",
       "                                                  random_state=None, tol=0.0001,\n",
       "                                                  verbose=1))],\n",
       "                                verbose=False),\n",
       "             iid='warn', n_jobs=4,\n",
       "             param_grid={'classify__C': array([1.e-04, 1.e-02, 1.e+00, 1.e+02, 1.e+04]),\n",
       "                         'vectorize__ngram_range': [(1, 1), (1, 2), (2, 2),\n",
       "                                                    (1, 3), (2, 3)]},\n",
       "             pre_dispatch='2*n_jobs', refit=True, return_train_score=False,\n",
       "             scoring=None, verbose=1)"
      ]
     },
     "execution_count": 9,
     "metadata": {},
     "output_type": "execute_result"
    }
   ],
   "source": [
    "grid_lang.fit(\n",
    "    lang_text_train+lang_text_val,\n",
    "    lang_label_train+lang_label_val\n",
    ")"
   ]
  },
  {
   "cell_type": "code",
   "execution_count": 10,
   "metadata": {},
   "outputs": [
    {
     "name": "stdout",
     "output_type": "stream",
     "text": [
      "The best combination is as follow:\n",
      "SVC C: 1.0\n",
      "lang ngram_range: (1, 2)\n"
     ]
    },
    {
     "data": {
      "text/plain": [
       "0.9622"
      ]
     },
     "execution_count": 10,
     "metadata": {},
     "output_type": "execute_result"
    }
   ],
   "source": [
    "print('The best combination is as follow:')\n",
    "for param, value in grid_lang.best_params_.items():\n",
    "    if 'vectorize' in param:\n",
    "        print('lang {}: {}'.format(param[11:], value))\n",
    "    else:\n",
    "        print('SVC {}: {}'.format(param[10:], value))\n",
    "\n",
    "grid_lang.best_estimator_.score(lang_text_test, lang_label_test)"
   ]
  },
  {
   "cell_type": "code",
   "execution_count": 11,
   "metadata": {},
   "outputs": [
    {
     "data": {
      "image/png": "[encoded data removed]",
      "text/plain": [
       "<Figure size 1440x720 with 1 Axes>"
      ]
     },
     "metadata": {
      "needs_background": "light"
     },
     "output_type": "display_data"
    }
   ],
   "source": [
    "draw_param_heatmap(\n",
    "    grid_param_lang,\n",
    "    'classify__C',\n",
    "    'vectorize__ngram_range',\n",
    "    pd.DataFrame(grid_lang.cv_results_)\n",
    ")"
   ]
  },
  {
   "cell_type": "code",
   "execution_count": 19,
   "metadata": {
    "scrolled": true
   },
   "outputs": [
    {
     "name": "stdout",
     "output_type": "stream",
     "text": [
      "de\n",
      "ja\n",
      "em\n",
      "que\n",
      "el\n",
      "se\n",
      "oli\n",
      "en\n",
      "on\n",
      "ei\n",
      "por\n",
      "la\n",
      "para\n",
      "aitäh\n",
      "um\n",
      "ka\n",
      "os\n",
      "mais\n",
      "não\n",
      "ta\n",
      "como\n",
      "myös\n",
      "hän\n",
      "ovat\n",
      "kui\n",
      "con\n",
      "los\n",
      "eesti\n",
      "että\n",
      "et\n",
      "uma\n",
      "pole\n",
      "su\n",
      "sekä\n",
      "tai\n",
      "aga\n",
      "ning\n",
      "oma\n",
      "un\n",
      "sitten\n",
      "joka\n",
      "siis\n",
      "una\n",
      "mutta\n",
      "es\n",
      "2009\n",
      "rasmus\n",
      "rasmus albumilistan\n",
      "the rasmus\n",
      "olla\n",
      "----------------------\n",
      "out\n",
      "easy\n",
      "hi\n",
      "kay\n",
      "tana\n",
      "essie\n",
      "tks\n",
      "michelle\n",
      "there\n",
      "but\n",
      "help\n",
      "hey\n",
      "never\n",
      "can\n",
      "wow\n",
      "regards\n",
      "mhc\n",
      "so\n",
      "best\n",
      "pm\n",
      "your\n",
      "will\n",
      "jeff\n",
      "by\n",
      "chris\n",
      "we\n",
      "not\n",
      "good\n",
      "please\n",
      "thanks\n",
      "doc\n",
      "great\n",
      "this\n",
      "my\n",
      "or\n",
      "am\n",
      "and\n",
      "that\n",
      "with\n",
      "have\n",
      "it\n",
      "you\n",
      "are\n",
      "was\n",
      "for\n",
      "is\n",
      "in\n",
      "of\n",
      "to\n",
      "the\n"
     ]
    }
   ],
   "source": [
    "features_lang = {\n",
    "    j: i for i, j\n",
    "    in grid_lang.best_estimator_.steps[0][1].vocabulary_.items()\n",
    "}\n",
    "\n",
    "lst_lang = [\n",
    "    (c, i) for i, c in\n",
    "    enumerate(grid_lang.best_estimator_.steps[1][1].coef_[0])\n",
    "]\n",
    "\n",
    "lst_lang.sort()\n",
    "\n",
    "for _, i in lst_lang[:50]:\n",
    "    print(features_lang[i])\n",
    "print('----------------------')\n",
    "for _, i in lst_lang[-50:]:\n",
    "    print(features_lang[i])"
   ]
  },
  {
   "cell_type": "markdown",
   "metadata": {},
   "source": [
    "At this point I thought of checking whether the dataset was balanced but it was and I just realized `coef_[0]` is the coefficient for English, great"
   ]
  },
  {
   "cell_type": "code",
   "execution_count": 176,
   "metadata": {},
   "outputs": [],
   "source": [
    "# with open('Model/grid_lang_word.pickle','wb') as f:\n",
    "#     pickle.dump(grid_lang, f)\n",
    "\n",
    "# with open('Model/grid_lang_word_best.pickle','wb') as f:\n",
    "#     pickle.dump((\n",
    "#         grid_lang.best_estimator_.steps[0][1],\n",
    "#         grid_lang.best_estimator_.steps[1][1]\n",
    "#     ), f)"
   ]
  },
  {
   "cell_type": "markdown",
   "metadata": {},
   "source": [
    "Now try with characters instead of words. But then since `GridSearchCV` has a cross-validation built-in, I'll put the train and validation set together and let `GridSearchCV` do its job instead of using the predefined split"
   ]
  },
  {
   "cell_type": "code",
   "execution_count": 12,
   "metadata": {},
   "outputs": [],
   "source": [
    "pipe_lang_char = Pipeline(\n",
    "    steps=[\n",
    "        (\n",
    "            'vectorize',\n",
    "            TfidfVectorizer(\n",
    "                max_features=100000,\n",
    "                binary=True,\n",
    "                ngram_range=(1,1)\n",
    "            )\n",
    "        ),\n",
    "        (\n",
    "            'classify',\n",
    "            LinearSVC(\n",
    "                C=0.0005,\n",
    "                verbose=1\n",
    "            )\n",
    "        )\n",
    "    ]\n",
    ")\n",
    "\n",
    "grid_param_lang_char = {\n",
    "    'vectorize__analyzer': [\n",
    "        'char',\n",
    "        'char_wb'\n",
    "    ],\n",
    "    'vectorize__ngram_range': [\n",
    "        (5, 5),\n",
    "        (10, 10),\n",
    "        (15, 15)\n",
    "    ],\n",
    "    'classify__C': np.logspace(\n",
    "        -4, 4, 5\n",
    "    )\n",
    "}\n",
    "\n",
    "grid_lang_char = GridSearchCV(\n",
    "    pipe_lang_char,\n",
    "    grid_param_lang_char,\n",
    "    cv=5,\n",
    "    n_jobs=4,\n",
    "    verbose=1\n",
    ")"
   ]
  },
  {
   "cell_type": "code",
   "execution_count": 14,
   "metadata": {
    "scrolled": true
   },
   "outputs": [
    {
     "name": "stdout",
     "output_type": "stream",
     "text": [
      "Fitting 5 folds for each of 30 candidates, totalling 150 fits\n"
     ]
    },
    {
     "name": "stderr",
     "output_type": "stream",
     "text": [
      "[Parallel(n_jobs=4)]: Using backend LokyBackend with 4 concurrent workers.\n",
      "[Parallel(n_jobs=4)]: Done  42 tasks      | elapsed:   29.8s\n",
      "[Parallel(n_jobs=4)]: Done 150 out of 150 | elapsed:  3.0min finished\n"
     ]
    },
    {
     "name": "stdout",
     "output_type": "stream",
     "text": [
      "[LibLinear]"
     ]
    },
    {
     "data": {
      "text/plain": [
       "GridSearchCV(cv=5, error_score='raise-deprecating',\n",
       "             estimator=Pipeline(memory=None,\n",
       "                                steps=[('vectorize',\n",
       "                                        TfidfVectorizer(analyzer='word',\n",
       "                                                        binary=True,\n",
       "                                                        decode_error='strict',\n",
       "                                                        dtype=<class 'numpy.float64'>,\n",
       "                                                        encoding='utf-8',\n",
       "                                                        input='content',\n",
       "                                                        lowercase=True,\n",
       "                                                        max_df=1.0,\n",
       "                                                        max_features=100000,\n",
       "                                                        min_df=1,\n",
       "                                                        ngram_range=(1, 1),\n",
       "                                                        norm='l2',\n",
       "                                                        preprocessor=None,\n",
       "                                                        smooth_idf=True,\n",
       "                                                        stop...\n",
       "                                                  multi_class='ovr',\n",
       "                                                  penalty='l2',\n",
       "                                                  random_state=None, tol=0.0001,\n",
       "                                                  verbose=1))],\n",
       "                                verbose=False),\n",
       "             iid='warn', n_jobs=4,\n",
       "             param_grid={'classify__C': array([1.e-04, 1.e-02, 1.e+00, 1.e+02, 1.e+04]),\n",
       "                         'vectorize__analyzer': ['char', 'char_wb'],\n",
       "                         'vectorize__ngram_range': [(5, 5), (10, 10),\n",
       "                                                    (15, 15)]},\n",
       "             pre_dispatch='2*n_jobs', refit=True, return_train_score=False,\n",
       "             scoring=None, verbose=1)"
      ]
     },
     "execution_count": 14,
     "metadata": {},
     "output_type": "execute_result"
    }
   ],
   "source": [
    "grid_lang_char.fit(\n",
    "    lang_text_train+lang_text_val,\n",
    "    lang_label_train+lang_label_val\n",
    ")"
   ]
  },
  {
   "cell_type": "code",
   "execution_count": 15,
   "metadata": {},
   "outputs": [
    {
     "name": "stdout",
     "output_type": "stream",
     "text": [
      "The best combination is as follow:\n",
      "SVC C: 1.0\n",
      "lang_char analyzer: char_wb\n",
      "lang_char ngram_range: (5, 5)\n"
     ]
    },
    {
     "data": {
      "text/plain": [
       "0.9848"
      ]
     },
     "execution_count": 15,
     "metadata": {},
     "output_type": "execute_result"
    }
   ],
   "source": [
    "print('The best combination is as follow:')\n",
    "for param, value in grid_lang_char.best_params_.items():\n",
    "    if 'vectorize' in param:\n",
    "        print('lang_char {}: {}'.format(param[11:], value))\n",
    "    else:\n",
    "        print('SVC {}: {}'.format(param[10:], value))\n",
    "\n",
    "grid_lang_char.best_estimator_.score(lang_text_test, lang_label_test)"
   ]
  },
  {
   "cell_type": "code",
   "execution_count": 18,
   "metadata": {},
   "outputs": [
    {
     "data": {
      "image/png": "[encoded data removed]",
      "text/plain": [
       "<Figure size 1440x720 with 1 Axes>"
      ]
     },
     "metadata": {
      "needs_background": "light"
     },
     "output_type": "display_data"
    }
   ],
   "source": [
    "draw_param_heatmap(\n",
    "    grid_param_lang_char,\n",
    "    'classify__C',\n",
    "    'vectorize__analyzer',\n",
    "    pd.DataFrame(grid_lang_char.cv_results_)\n",
    ")"
   ]
  },
  {
   "cell_type": "markdown",
   "metadata": {},
   "source": [
    "I would have thought that the `analyzer=char` would have more effects on the results because it has some more information. But turn out, those information became noises instead and hurted the classifier. But then, for `analyzer=char_wb`, the `ngram_range` that worked was `(5, 5)`. That's only a word long and even less. So it's like less is more at this point as the features now are just linking words, some punctuations and special characters. Different cultural usage?"
   ]
  },
  {
   "cell_type": "code",
   "execution_count": 16,
   "metadata": {},
   "outputs": [],
   "source": [
    "features_lang_char = {\n",
    "    j: i for i, j\n",
    "    in grid_lang_char.best_estimator_.steps[0][1].vocabulary_.items()\n",
    "}\n",
    "\n",
    "lst_lang_char = [\n",
    "    (c, i) for i, c in\n",
    "    enumerate(grid_lang_char.best_estimator_.steps[1][1].coef_[0])\n",
    "]\n",
    "\n",
    "lst_lang_char.sort()"
   ]
  },
  {
   "cell_type": "code",
   "execution_count": 17,
   "metadata": {
    "scrolled": true
   },
   "outputs": [
    {
     "name": "stdout",
     "output_type": "stream",
     "text": [
      " de \n",
      " ja \n",
      " em \n",
      " o \n",
      " en \n",
      " el \n",
      " y \n",
      " \" \n",
      " se \n",
      " la \n",
      " ei \n",
      " e \n",
      " oli \n",
      " que \n",
      " por \n",
      " on \n",
      "para \n",
      " é \n",
      " fabe\n",
      " os \n",
      " « \n",
      " com \n",
      "ente \n",
      " para\n",
      " un \n",
      " es \n",
      " con \n",
      "inen \n",
      " não \n",
      " su \n",
      " um \n",
      " los \n",
      "mente\n",
      " ka \n",
      "aber \n",
      " kui \n",
      " ta \n",
      " una \n",
      " tule\n",
      "ista \n",
      " como\n",
      " et \n",
      "ssa. \n",
      "ncia \n",
      " fue \n",
      " olen\n",
      "como \n",
      " esta\n",
      " hän \n",
      " uma \n",
      "----------------------\n",
      " kim \n",
      " sun \n",
      " bd \n",
      "tks, \n",
      " ? \n",
      " ed, \n",
      "ugh!!\n",
      " ok. \n",
      " hi \n",
      " ====\n",
      " mb \n",
      " joe-\n",
      " k. \n",
      " per \n",
      " hi, \n",
      "enron\n",
      "/2000\n",
      " i \n",
      " best\n",
      " wow!\n",
      " ken \n",
      " not \n",
      "thank\n",
      " or \n",
      " at \n",
      " with\n",
      " can \n",
      " jim \n",
      "have \n",
      " than\n",
      " have\n",
      " kay \n",
      " my \n",
      " pm \n",
      " good\n",
      " jeff\n",
      " mhc \n",
      " am \n",
      " it \n",
      "ation\n",
      " was \n",
      " are \n",
      " you \n",
      " for \n",
      " of \n",
      " is \n",
      " in \n",
      " to \n",
      " and \n",
      " the \n"
     ]
    }
   ],
   "source": [
    "for _, i in lst_lang_char[:50]:\n",
    "    print(features_lang_char[i])\n",
    "print('----------------------')\n",
    "for _, i in lst_lang_char[-50:]:\n",
    "    print(features_lang_char[i])"
   ]
  },
  {
   "cell_type": "code",
   "execution_count": 35,
   "metadata": {},
   "outputs": [],
   "source": [
    "result_lang_array = grid_lang_char.best_estimator_.predict(\n",
    "    lang_text_test\n",
    ")"
   ]
  },
  {
   "cell_type": "code",
   "execution_count": 37,
   "metadata": {
    "scrolled": true
   },
   "outputs": [
    {
     "data": {
      "text/plain": [
       "[('pt', 'et', 'Campanada 1995.\\n'),\n",
       " ('et', 'fi', 'Maistele.\\n'),\n",
       " ('et', 'fi', 'Bruxelles\\n'),\n",
       " ('et', 'en', 'DF\\n'),\n",
       " ('en', 'et', '( Antes Edition)\\n'),\n",
       " ('en', 'fi', '- Mm.. The Killersiä, mitenniin?\\n'),\n",
       " ('et', 'pt', 'Vereador renunciou\\n'),\n",
       " ('et', 'fi', 'Foorumin avasi professori Kari Lukka.\\n'),\n",
       " ('et', 'pt', 'Fantasia infantil:\\n'),\n",
       " ('en', 'fi', '1. JOHDANTO\\n'),\n",
       " ('pt', 'es', '¿ A qué esperáis para sorprender a papá?\\n'),\n",
       " ('fi', 'en', 'Aka Nowheresville.\\n'),\n",
       " ('et', 'en', 'Rothko\\n'),\n",
       " ('pt', 'es', 'Ruiz Mateos,¿ héroe o villano?\\n'),\n",
       " ('fi', 'es', 'Pertch Proshian( 1839-1907);\\n'),\n",
       " ('et', 'en', 'RE:???\\n'),\n",
       " ('et', 'en', 'Ok--fine.\\n'),\n",
       " ('pt', 'en', \"Orr's a nightmare!\\n\"),\n",
       " ('en', 'et', 'Bill Frisell\\n'),\n",
       " ('et', 'en', 'McDonalds\\n'),\n",
       " ('fi', 'et', 'PEKKA ERELT\\n'),\n",
       " ('et', 'en', '@Ryan B,\\n'),\n",
       " ('pt', 'en', 'Jamaica\\n'),\n",
       " ('et', 'fi', 'Honduras\\n'),\n",
       " ('es', 'pt', 'Façam como eu!\\n'),\n",
       " ('et', 'en', 'Marly,\\n'),\n",
       " ('et', 'en', 'Nasim H Khan@TRANSREDES\\n'),\n",
       " ('et', 'en', 'Rebecca:\\n'),\n",
       " ('en', 'et', 'Linttraktor.\\n'),\n",
       " ('en', 'fi', '1. JOHDANTO\\n'),\n",
       " ('fi', 'pt', 'Adoro Ella Fitzgerald»\\n'),\n",
       " ('en',\n",
       "  'es',\n",
       "  '* Edward S. Miller, War Plan Orange: The U.S. Strategy to Defeat Japan, 1897-1945, U.S. Naval Institute Press, 1991, ISBN: 0870217593\\n'),\n",
       " ('et', 'en', 'Ben Rogers\\n'),\n",
       " ('et', 'en', 'Intelligence lapses\\n'),\n",
       " ('et', 'fi', 'Mur!\\n'),\n",
       " ('et', 'en', '*~*~*~*~*~*~*~*~*~*\\n'),\n",
       " ('es', 'en', 'Ted Noble\\n'),\n",
       " ('et', 'en', 'Wayne\\n'),\n",
       " ('et', 'en', 'Sigh.\\n'),\n",
       " ('et', 'fi', 'Mää istusin alhaal ovensuusa\\n'),\n",
       " ('et', 'fi', 'Ruoan olemus\\n'),\n",
       " ('es', 'en', 'No joke!\\n'),\n",
       " ('et', 'en', 'Selah.\\n'),\n",
       " ('pt', 'et', 'Tarte Tatin e tagurpidi õunakook\\n'),\n",
       " ('en', 'fi', 'It was worth it!\\n'),\n",
       " ('fi', 'en', 'Pure Pilates!!\\n'),\n",
       " ('et', 'en', 'Eleuthra?\\n'),\n",
       " ('fi', 'en', 'Nella\\n'),\n",
       " ('en', 'et', 'Persses?\\n'),\n",
       " ('et', 'es', 'Retablo mayor churrigueresco( s. XVIII).\\n'),\n",
       " ('es', 'en', 'Ted Noble\\n'),\n",
       " ('en', 'pt', 'Jacques Chirac fala de« terrorismo».\\n'),\n",
       " ('et', 'en', '-Juggernaut>\\n'),\n",
       " ('et', 'en', 'Kim.\\n'),\n",
       " ('en', 'et', 'SMITH KLINE 31,6\\n'),\n",
       " ('et', 'pt', 'Lírio\\n'),\n",
       " ('fi', 'en', 'Natalie McVeigh Oakley, England\\n'),\n",
       " ('pt', 'es', 'Ayudemos a mi compañero Jimmy\".\\n'),\n",
       " ('et', 'fi', 'Nam\\n'),\n",
       " ('et', 'fi', 'Nuku nuku.\\n'),\n",
       " ('fi', 'en', 'Ernie Simien\\n'),\n",
       " ('en', 'fi', 'Veri putoaa pisara pisaralta paperi silppuun.\\n'),\n",
       " ('en', 'pt', 'The Earth Works Group\\n'),\n",
       " ('en', 'pt', 'The Washington Post\\n'),\n",
       " ('et', 'en', 'Why?\\n'),\n",
       " ('fi', 'en', 'May, 2009.\\n'),\n",
       " ('et', 'en', 'A.\\n'),\n",
       " ('et', 'en', 'Reuters\\n'),\n",
       " ('en', 'fi', 'Lisää tietoa http://thrilltheworld09finland.blogspot.com/\\n'),\n",
       " ('et', 'pt', 'Proibido fumar\\n'),\n",
       " ('et', 'es', '(\"¡ Vaya Bollo!\")\\n'),\n",
       " ('et', 'en', 'df\\n'),\n",
       " ('et', 'fi', 'Neil Diamond laulaa:\\n'),\n",
       " ('et', 'pt', 'MONTE ESTORIL\\n'),\n",
       " ('et', 'en', 'JWVS\\n'),\n",
       " ('et', 'en', 'DF\\n')]"
      ]
     },
     "execution_count": 37,
     "metadata": {},
     "output_type": "execute_result"
    }
   ],
   "source": [
    "[\n",
    "    (result_lang_array[i], lang_label_test[i], lang_text_test[i])\n",
    "    for i, predict in enumerate(\n",
    "        result_lang_array == np.array(lang_label_test)\n",
    "    )\n",
    "    if not predict\n",
    "]"
   ]
  },
  {
   "cell_type": "markdown",
   "metadata": {},
   "source": [
    "The wrong predictions are pretty random, to be honest. Some too short sentences/words. Some are names. English can be mistaken to Spanish because of some puntuation, Finnish because of some linking words like hashtags. One English sentence was labeled Finnish, I checked, line 741 on the `fi_test.txt` so accuracy can be a wee-bit higher.\n",
    "\n",
    "Also, I forgot to remove the line break sign `\\n` but since it appeared every where, it did no harm."
   ]
  },
  {
   "cell_type": "markdown",
   "metadata": {},
   "source": [
    "#### This part is for the POS tagger, for Vietnamese apparently"
   ]
  },
  {
   "cell_type": "code",
   "execution_count": 3,
   "metadata": {},
   "outputs": [],
   "source": [
    "# The functions are defined alllll the way up there\n",
    "vn_train = read_conllu('Data/vi_vtb-ud-train.conllu')\n",
    "vn_val = read_conllu('Data/vi_vtb-ud-dev.conllu')\n",
    "vn_test = read_conllu('Data/vi_vtb-ud-test.conllu')"
   ]
  },
  {
   "cell_type": "code",
   "execution_count": 6,
   "metadata": {
    "scrolled": true
   },
   "outputs": [
    {
     "name": "stdout",
     "output_type": "stream",
     "text": [
      "[one_word(word='giờ', pos='PUNCT'), one_word(word='G', pos='NOUN'), one_word(word='đã', pos='X'), one_word(word='điểm', pos='VERB'), one_word(word=',', pos='PUNCT'), one_word(word='gậy gộc', pos='NOUN'), one_word(word=',', pos='PUNCT'), one_word(word='nước', pos='NOUN'), one_word(word=',', pos='PUNCT'), one_word(word='lửa', pos='NOUN'), one_word(word='...', pos='PUNCT'), one_word(word='sẵn sàng', pos='ADJ'), one_word(word='để', pos='ADP'), one_word(word='tách', pos='VERB'), one_word(word='chúng', pos='PROPN'), one_word(word='nếu', pos='CCONJ'), one_word(word='xảy', pos='VERB'), one_word(word='ra', pos='X'), one_word(word='\"', pos='PUNCT'), one_word(word='song', pos='NUM'), one_word(word='hổ', pos='NOUN'), one_word(word='đấu', pos='VERB'), one_word(word='\"', pos='PUNCT'), one_word(word='.', pos='PUNCT')]\n",
      "\n",
      "[one_word(word='cánh', pos='NOUN'), one_word(word='cửa', pos='NOUN'), one_word(word='hai', pos='NUM'), one_word(word='chuồng', pos='NOUN'), one_word(word='dần dần', pos='X'), one_word(word='rút', pos='VERB'), one_word(word='lên', pos='X'), one_word(word='.', pos='PUNCT')]\n"
     ]
    }
   ],
   "source": [
    "print(vn_test[0], end='\\n\\n')\n",
    "print(vn_test[1])"
   ]
  },
  {
   "cell_type": "code",
   "execution_count": 5,
   "metadata": {},
   "outputs": [
    {
     "name": "stdout",
     "output_type": "stream",
     "text": [
      "There are 1400 sentences in train set\n",
      "There are 800 sentences in validation set\n",
      "There are 800 sentences in test set\n"
     ]
    }
   ],
   "source": [
    "print('There are', len(vn_train), 'sentences in train set')\n",
    "print('There are', len(vn_val), 'sentences in validation set')\n",
    "print('There are', len(vn_test), 'sentences in test set')"
   ]
  },
  {
   "cell_type": "code",
   "execution_count": 23,
   "metadata": {},
   "outputs": [],
   "source": [
    "vn_label_train, vn_feature_train = prep_data(vn_train)\n",
    "vn_label_val, vn_feature_val = prep_data(vn_val)\n",
    "vn_label_test, vn_feature_test = prep_data(vn_test)"
   ]
  },
  {
   "cell_type": "code",
   "execution_count": 27,
   "metadata": {
    "scrolled": true
   },
   "outputs": [
    {
     "name": "stdout",
     "output_type": "stream",
     "text": [
      "[LibLinear]"
     ]
    },
    {
     "data": {
      "text/plain": [
       "0.7782699322563835"
      ]
     },
     "execution_count": 27,
     "metadata": {},
     "output_type": "execute_result"
    }
   ],
   "source": [
    "vn_vectorizer = DictVectorizer()\n",
    "\n",
    "vn_vector_train = vn_vectorizer.fit_transform(vn_feature_train)\n",
    "vn_vector_val = vn_vectorizer.transform(vn_feature_val)\n",
    "\n",
    "vn_classifier = LinearSVC(C=0.01, verbose=1)\n",
    "vn_classifier.fit(vn_vector_train, vn_label_train)\n",
    "\n",
    "vn_classifier.score(vn_vector_val, vn_label_val)"
   ]
  },
  {
   "cell_type": "markdown",
   "metadata": {},
   "source": [
    "Apparently on the first try, I ranked 5th??? Beginner's luck? I'll try with `GridSearch` anyway to tune some parameters"
   ]
  },
  {
   "cell_type": "code",
   "execution_count": 29,
   "metadata": {},
   "outputs": [],
   "source": [
    "pipe_vn = Pipeline(\n",
    "    steps=[\n",
    "        (\n",
    "            'vectorize',\n",
    "            DictVectorizer()\n",
    "        ),\n",
    "        (\n",
    "            'classify',\n",
    "            LinearSVC(\n",
    "                C=0.0005,\n",
    "                verbose=1\n",
    "            )\n",
    "        )\n",
    "    ]\n",
    ")\n",
    "\n",
    "grid_param_vn = {\n",
    "    'classify__C': np.logspace(\n",
    "        -4, 4, 9\n",
    "    )\n",
    "}\n",
    "\n",
    "vn_pds = PredefinedSplit(\n",
    "    test_fold=[-1]*len(vn_label_train)+[0]*len(vn_label_val)\n",
    ")\n",
    "\n",
    "grid_vn = GridSearchCV(\n",
    "    pipe_vn,\n",
    "    grid_param_vn,\n",
    "#     cv=5,\n",
    "    cv=vn_pds,\n",
    "    n_jobs=4,\n",
    "    verbose=1\n",
    ")"
   ]
  },
  {
   "cell_type": "code",
   "execution_count": 30,
   "metadata": {
    "scrolled": true
   },
   "outputs": [
    {
     "name": "stdout",
     "output_type": "stream",
     "text": [
      "Fitting 1 folds for each of 9 candidates, totalling 9 fits\n"
     ]
    },
    {
     "name": "stderr",
     "output_type": "stream",
     "text": [
      "[Parallel(n_jobs=4)]: Using backend LokyBackend with 4 concurrent workers.\n",
      "[Parallel(n_jobs=4)]: Done   9 out of   9 | elapsed:   15.1s finished\n"
     ]
    },
    {
     "name": "stdout",
     "output_type": "stream",
     "text": [
      "[LibLinear]"
     ]
    },
    {
     "data": {
      "text/plain": [
       "GridSearchCV(cv=PredefinedSplit(test_fold=array([-1, -1, ...,  0,  0])),\n",
       "             error_score='raise-deprecating',\n",
       "             estimator=Pipeline(memory=None,\n",
       "                                steps=[('vectorize',\n",
       "                                        DictVectorizer(dtype=<class 'numpy.float64'>,\n",
       "                                                       separator='=', sort=True,\n",
       "                                                       sparse=True)),\n",
       "                                       ('classify',\n",
       "                                        LinearSVC(C=0.0005, class_weight=None,\n",
       "                                                  dual=True, fit_intercept=True,\n",
       "                                                  intercept_scaling=1,\n",
       "                                                  loss='squared_hinge',\n",
       "                                                  max_iter=1000,\n",
       "                                                  multi_class='ovr',\n",
       "                                                  penalty='l2',\n",
       "                                                  random_state=None, tol=0.0001,\n",
       "                                                  verbose=1))],\n",
       "                                verbose=False),\n",
       "             iid='warn', n_jobs=4,\n",
       "             param_grid={'classify__C': array([1.e-04, 1.e-03, 1.e-02, 1.e-01, 1.e+00, 1.e+01, 1.e+02, 1.e+03,\n",
       "       1.e+04])},\n",
       "             pre_dispatch='2*n_jobs', refit=True, return_train_score=False,\n",
       "             scoring=None, verbose=1)"
      ]
     },
     "execution_count": 30,
     "metadata": {},
     "output_type": "execute_result"
    }
   ],
   "source": [
    "grid_vn.fit(\n",
    "    vn_feature_train+vn_feature_val,\n",
    "    vn_label_train+vn_label_val\n",
    ")"
   ]
  },
  {
   "cell_type": "code",
   "execution_count": 31,
   "metadata": {},
   "outputs": [
    {
     "name": "stdout",
     "output_type": "stream",
     "text": [
      "The best combination is as follow:\n",
      "SVC C: 1.0\n"
     ]
    },
    {
     "data": {
      "text/plain": [
       "0.8833124215809285"
      ]
     },
     "execution_count": 31,
     "metadata": {},
     "output_type": "execute_result"
    }
   ],
   "source": [
    "print('The best combination is as follow:')\n",
    "for param, value in grid_vn.best_params_.items():\n",
    "    if 'vectorize' in param:\n",
    "        print('vn {}: {}'.format(param[11:], value))\n",
    "    else:\n",
    "        print('SVC {}: {}'.format(param[10:], value))\n",
    "\n",
    "grid_vn.best_estimator_.score(vn_feature_test, vn_label_test)"
   ]
  },
  {
   "cell_type": "markdown",
   "metadata": {},
   "source": [
    "That was higher than the highest `vi_vtb` mark of 83.62, maybe nobody works on Vietnamese anymore?"
   ]
  },
  {
   "cell_type": "code",
   "execution_count": 33,
   "metadata": {
    "scrolled": false
   },
   "outputs": [
    {
     "data": {
      "text/html": [
       "<div>\n",
       "<style scoped>\n",
       "    .dataframe tbody tr th:only-of-type {\n",
       "        vertical-align: middle;\n",
       "    }\n",
       "\n",
       "    .dataframe tbody tr th {\n",
       "        vertical-align: top;\n",
       "    }\n",
       "\n",
       "    .dataframe thead th {\n",
       "        text-align: right;\n",
       "    }\n",
       "</style>\n",
       "<table border=\"1\" class=\"dataframe\">\n",
       "  <thead>\n",
       "    <tr style=\"text-align: right;\">\n",
       "      <th></th>\n",
       "      <th>param_classify__C</th>\n",
       "      <th>mean_test_score</th>\n",
       "    </tr>\n",
       "  </thead>\n",
       "  <tbody>\n",
       "    <tr>\n",
       "      <td>0</td>\n",
       "      <td>0.0001</td>\n",
       "      <td>0.423137</td>\n",
       "    </tr>\n",
       "    <tr>\n",
       "      <td>1</td>\n",
       "      <td>0.001</td>\n",
       "      <td>0.582421</td>\n",
       "    </tr>\n",
       "    <tr>\n",
       "      <td>2</td>\n",
       "      <td>0.01</td>\n",
       "      <td>0.778270</td>\n",
       "    </tr>\n",
       "    <tr>\n",
       "      <td>3</td>\n",
       "      <td>0.1</td>\n",
       "      <td>0.864426</td>\n",
       "    </tr>\n",
       "    <tr>\n",
       "      <td>4</td>\n",
       "      <td>1</td>\n",
       "      <td>0.876932</td>\n",
       "    </tr>\n",
       "    <tr>\n",
       "      <td>5</td>\n",
       "      <td>10</td>\n",
       "      <td>0.859649</td>\n",
       "    </tr>\n",
       "    <tr>\n",
       "      <td>6</td>\n",
       "      <td>100</td>\n",
       "      <td>0.827862</td>\n",
       "    </tr>\n",
       "    <tr>\n",
       "      <td>7</td>\n",
       "      <td>1000</td>\n",
       "      <td>0.815008</td>\n",
       "    </tr>\n",
       "    <tr>\n",
       "      <td>8</td>\n",
       "      <td>10000</td>\n",
       "      <td>0.807799</td>\n",
       "    </tr>\n",
       "  </tbody>\n",
       "</table>\n",
       "</div>"
      ],
      "text/plain": [
       "  param_classify__C  mean_test_score\n",
       "0            0.0001         0.423137\n",
       "1             0.001         0.582421\n",
       "2              0.01         0.778270\n",
       "3               0.1         0.864426\n",
       "4                 1         0.876932\n",
       "5                10         0.859649\n",
       "6               100         0.827862\n",
       "7              1000         0.815008\n",
       "8             10000         0.807799"
      ]
     },
     "execution_count": 33,
     "metadata": {},
     "output_type": "execute_result"
    }
   ],
   "source": [
    "pd.DataFrame(grid_vn.cv_results_)[['param_classify__C', 'mean_test_score']]"
   ]
  },
  {
   "cell_type": "code",
   "execution_count": 39,
   "metadata": {
    "scrolled": true
   },
   "outputs": [
    {
     "name": "stdout",
     "output_type": "stream",
     "text": [
      "Dismissive features\n",
      "word_previous_Thắng\n",
      "word_previous_dễ\n",
      "word_previous_bóng bàn\n",
      "word_previous_mai\n",
      "word_next_đều\n",
      "word_previous_nguyên\n",
      "word_next_thứ hai\n",
      "word_next_mắt\n",
      "word_và\n",
      "word_next_thấm\n",
      "word_previous_Henri Martin\n",
      "word_previous_thứ\n",
      "word_tự tin\n",
      "word_next_bốn\n",
      "word_previous_Ngọ\n",
      "word_next_vướng\n",
      "word_next_nhóm\n",
      "word_trợ giúp\n",
      "word_next_hoàn hồn\n",
      "word_hương\n",
      "word_previous_Bố mẹ\n",
      "word_tiến bộ\n",
      "word_đối với\n",
      "word_previous_quên\n",
      "word_hai\n",
      "word_previous_đứa\n",
      "word_previous_dài\n",
      "word_previous_rụng\n",
      "word_previous_thừa nhận\n",
      "word_previous_mình\n",
      "word_đó\n",
      "word_previous_nhét\n",
      "word_,\n",
      "word_có\n",
      "word_next_giám đốc\n",
      "word_next_đoàn\n",
      "word_previous_nguôi ngoai\n",
      "word_next_ảm đạm\n",
      "word_previous_chở\n",
      "word_next_đồng đội\n",
      "word_điện máy\n",
      "word_previous_giây phút\n",
      "word_previous_hợp tác\n",
      "word_hoài nghi\n",
      "word_next_lang thang\n",
      "word_next_23\n",
      "word_previous_Phương\n",
      "word_nỗi\n",
      "word_chúng tôi\n",
      "word_khí thế\n",
      "----------------------\n",
      "Definitive features\n",
      "word_công bằng\n",
      "word_lâu\n",
      "word_muộn\n",
      "word_khắp\n",
      "word_khổ\n",
      "word_nghèo\n",
      "word_nặng\n",
      "word_Trước\n",
      "word_ngơ ngác\n",
      "word_lậu\n",
      "word_thiện\n",
      "word_âm thầm\n",
      "word_chậm\n",
      "word_ổn\n",
      "word_vội vã\n",
      "word_đen\n",
      "word_dài\n",
      "word_lạnh\n",
      "word_tạm\n",
      "word_tốt\n",
      "word_khó\n",
      "word_mù\n",
      "word_dọc\n",
      "word_previous_bọc\n",
      "word_sâu\n",
      "word_suốt\n",
      "word_đầy\n",
      "word_đầy đủ\n",
      "word_ít\n",
      "word_chuyên\n",
      "word_Cuối cùng\n",
      "word_cao\n",
      "word_may\n",
      "word_lạ\n",
      "word_nhỏ\n",
      "word_vắng\n",
      "word_xa\n",
      "word_to\n",
      "word_riêng\n",
      "word_dễ\n",
      "word_chắc\n",
      "word_cũ\n",
      "word_đúng\n",
      "word_gần\n",
      "word_già\n",
      "word_khác\n",
      "word_sát\n",
      "word_Nhiều\n",
      "word_thẳng\n",
      "word_nhiều\n"
     ]
    }
   ],
   "source": [
    "POS_i = list(grid_vn.best_estimator_.steps[1][1].classes_).index('ADJ')\n",
    "\n",
    "features_vn = {\n",
    "    j: i for i, j\n",
    "    in grid_vn.best_estimator_.steps[0][1].vocabulary_.items()\n",
    "}\n",
    "\n",
    "lst_vn = [\n",
    "    (c, i) for i, c in\n",
    "    enumerate(grid_vn.best_estimator_.steps[1][1].coef_[POS_i])\n",
    "]\n",
    "\n",
    "lst_vn.sort()\n",
    "\n",
    "print('Dismissive features')\n",
    "for _, i in lst_vn[:50]:\n",
    "    print(features_vn[i])\n",
    "print('----------------------')\n",
    "print('Definitive features')\n",
    "for _, i in lst_vn[-50:]:\n",
    "    print(features_vn[i])"
   ]
  },
  {
   "cell_type": "markdown",
   "metadata": {},
   "source": [
    "Looks good to me, it picked up some of the weird features that looks very standard and make sense to a Vietnamese speaker. Still not easy to explain but seems fine.\n",
    "\n",
    "The way the dataset was structured also helped since it grouped some really ambiguous words together, double words. In real life, it is not that easy. Similar to the previous tasks, we can use `ngram_range` to include these double word cases but still, that will be a lot of noise. Also this dataset won't be able to deal with actual day-to-day Vietnamese since people don't speak like that, a lot of words were ommited, implied, swapped or otherwise replace with a nonsense word entirely. But it's a learning anyway."
   ]
  }
 ],
 "metadata": {
  "kernelspec": {
   "display_name": "Python 3",
   "language": "python",
   "name": "python3"
  },
  "language_info": {
   "codemirror_mode": {
    "name": "ipython",
    "version": 3
   },
   "file_extension": ".py",
   "mimetype": "text/x-python",
   "name": "python",
   "nbconvert_exporter": "python",
   "pygments_lexer": "ipython3",
   "version": "3.7.3"
  }
 },
 "nbformat": 4,
 "nbformat_minor": 4
}
